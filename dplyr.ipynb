{
 "cells": [
  {
   "cell_type": "code",
   "execution_count": 2,
   "metadata": {},
   "outputs": [
    {
     "name": "stderr",
     "output_type": "stream",
     "text": [
      "Warning message:\n",
      "\"package 'dplyr' was built under R version 3.6.1\"\n",
      "Attaching package: 'dplyr'\n",
      "\n",
      "The following objects are masked from 'package:stats':\n",
      "\n",
      "    filter, lag\n",
      "\n",
      "The following objects are masked from 'package:base':\n",
      "\n",
      "    intersect, setdiff, setequal, union\n",
      "\n"
     ]
    }
   ],
   "source": [
    "library(dplyr)"
   ]
  },
  {
   "cell_type": "code",
   "execution_count": 3,
   "metadata": {},
   "outputs": [],
   "source": [
    "data=data.frame(\n",
    "   id=1:10,\n",
    "name=c(\"pappu\",\"modi\",\"saha\",\"rahul\",\"amit\",\"narendra\",\"sushma\",\"imran\",\"devansh\",\"hd\"),\n",
    "class=sample(c(\"A\",\"B\",\"C\"),10,replace=T))"
   ]
  },
  {
   "cell_type": "code",
   "execution_count": 4,
   "metadata": {},
   "outputs": [],
   "source": [
    "game=data.frame(\n",
    "id=sample(1:20,10),\n",
    "game=sample(c(\"cricket\",\"football\",\"kabadi\"),10,replace=T),\n",
    "score=sample(40:100,10))"
   ]
  },
  {
   "cell_type": "code",
   "execution_count": 5,
   "metadata": {},
   "outputs": [
    {
     "data": {
      "text/html": [
       "<table>\n",
       "<thead><tr><th scope=col>id</th><th scope=col>name</th><th scope=col>class</th></tr></thead>\n",
       "<tbody>\n",
       "\t<tr><td>1       </td><td>pappu   </td><td>C       </td></tr>\n",
       "\t<tr><td>2       </td><td>modi    </td><td>A       </td></tr>\n",
       "\t<tr><td>3       </td><td>saha    </td><td>A       </td></tr>\n",
       "\t<tr><td>4       </td><td>rahul   </td><td>C       </td></tr>\n",
       "\t<tr><td>5       </td><td>amit    </td><td>C       </td></tr>\n",
       "\t<tr><td>6       </td><td>narendra</td><td>C       </td></tr>\n",
       "</tbody>\n",
       "</table>\n"
      ],
      "text/latex": [
       "\\begin{tabular}{r|lll}\n",
       " id & name & class\\\\\n",
       "\\hline\n",
       "\t 1        & pappu    & C       \\\\\n",
       "\t 2        & modi     & A       \\\\\n",
       "\t 3        & saha     & A       \\\\\n",
       "\t 4        & rahul    & C       \\\\\n",
       "\t 5        & amit     & C       \\\\\n",
       "\t 6        & narendra & C       \\\\\n",
       "\\end{tabular}\n"
      ],
      "text/markdown": [
       "\n",
       "| id | name | class |\n",
       "|---|---|---|\n",
       "| 1        | pappu    | C        |\n",
       "| 2        | modi     | A        |\n",
       "| 3        | saha     | A        |\n",
       "| 4        | rahul    | C        |\n",
       "| 5        | amit     | C        |\n",
       "| 6        | narendra | C        |\n",
       "\n"
      ],
      "text/plain": [
       "  id name     class\n",
       "1 1  pappu    C    \n",
       "2 2  modi     A    \n",
       "3 3  saha     A    \n",
       "4 4  rahul    C    \n",
       "5 5  amit     C    \n",
       "6 6  narendra C    "
      ]
     },
     "metadata": {},
     "output_type": "display_data"
    }
   ],
   "source": [
    "head(data)"
   ]
  },
  {
   "cell_type": "code",
   "execution_count": 6,
   "metadata": {},
   "outputs": [],
   "source": [
    "ddf=merge(data,game,by=\"id\")"
   ]
  },
  {
   "cell_type": "code",
   "execution_count": 7,
   "metadata": {},
   "outputs": [
    {
     "data": {
      "text/html": [
       "<table>\n",
       "<thead><tr><th scope=col>id</th><th scope=col>name</th><th scope=col>class</th><th scope=col>game</th><th scope=col>score</th></tr></thead>\n",
       "<tbody>\n",
       "\t<tr><td> 2      </td><td>modi    </td><td>A       </td><td>football</td><td>60      </td></tr>\n",
       "\t<tr><td> 5      </td><td>amit    </td><td>C       </td><td>cricket </td><td>61      </td></tr>\n",
       "\t<tr><td> 7      </td><td>sushma  </td><td>C       </td><td>football</td><td>69      </td></tr>\n",
       "\t<tr><td> 8      </td><td>imran   </td><td>C       </td><td>cricket </td><td>97      </td></tr>\n",
       "\t<tr><td> 9      </td><td>devansh </td><td>C       </td><td>kabadi  </td><td>84      </td></tr>\n",
       "\t<tr><td>10      </td><td>hd      </td><td>C       </td><td>cricket </td><td>45      </td></tr>\n",
       "</tbody>\n",
       "</table>\n"
      ],
      "text/latex": [
       "\\begin{tabular}{r|lllll}\n",
       " id & name & class & game & score\\\\\n",
       "\\hline\n",
       "\t  2       & modi     & A        & football & 60      \\\\\n",
       "\t  5       & amit     & C        & cricket  & 61      \\\\\n",
       "\t  7       & sushma   & C        & football & 69      \\\\\n",
       "\t  8       & imran    & C        & cricket  & 97      \\\\\n",
       "\t  9       & devansh  & C        & kabadi   & 84      \\\\\n",
       "\t 10       & hd       & C        & cricket  & 45      \\\\\n",
       "\\end{tabular}\n"
      ],
      "text/markdown": [
       "\n",
       "| id | name | class | game | score |\n",
       "|---|---|---|---|---|\n",
       "|  2       | modi     | A        | football | 60       |\n",
       "|  5       | amit     | C        | cricket  | 61       |\n",
       "|  7       | sushma   | C        | football | 69       |\n",
       "|  8       | imran    | C        | cricket  | 97       |\n",
       "|  9       | devansh  | C        | kabadi   | 84       |\n",
       "| 10       | hd       | C        | cricket  | 45       |\n",
       "\n"
      ],
      "text/plain": [
       "  id name    class game     score\n",
       "1  2 modi    A     football 60   \n",
       "2  5 amit    C     cricket  61   \n",
       "3  7 sushma  C     football 69   \n",
       "4  8 imran   C     cricket  97   \n",
       "5  9 devansh C     kabadi   84   \n",
       "6 10 hd      C     cricket  45   "
      ]
     },
     "metadata": {},
     "output_type": "display_data"
    }
   ],
   "source": [
    "ddf"
   ]
  },
  {
   "cell_type": "code",
   "execution_count": 8,
   "metadata": {},
   "outputs": [
    {
     "data": {
      "text/html": [
       "<table>\n",
       "<thead><tr><th scope=col>name</th><th scope=col>score</th></tr></thead>\n",
       "<tbody>\n",
       "\t<tr><td>modi   </td><td>60     </td></tr>\n",
       "\t<tr><td>amit   </td><td>61     </td></tr>\n",
       "\t<tr><td>sushma </td><td>69     </td></tr>\n",
       "\t<tr><td>imran  </td><td>97     </td></tr>\n",
       "\t<tr><td>devansh</td><td>84     </td></tr>\n",
       "\t<tr><td>hd     </td><td>45     </td></tr>\n",
       "</tbody>\n",
       "</table>\n"
      ],
      "text/latex": [
       "\\begin{tabular}{r|ll}\n",
       " name & score\\\\\n",
       "\\hline\n",
       "\t modi    & 60     \\\\\n",
       "\t amit    & 61     \\\\\n",
       "\t sushma  & 69     \\\\\n",
       "\t imran   & 97     \\\\\n",
       "\t devansh & 84     \\\\\n",
       "\t hd      & 45     \\\\\n",
       "\\end{tabular}\n"
      ],
      "text/markdown": [
       "\n",
       "| name | score |\n",
       "|---|---|\n",
       "| modi    | 60      |\n",
       "| amit    | 61      |\n",
       "| sushma  | 69      |\n",
       "| imran   | 97      |\n",
       "| devansh | 84      |\n",
       "| hd      | 45      |\n",
       "\n"
      ],
      "text/plain": [
       "  name    score\n",
       "1 modi    60   \n",
       "2 amit    61   \n",
       "3 sushma  69   \n",
       "4 imran   97   \n",
       "5 devansh 84   \n",
       "6 hd      45   "
      ]
     },
     "metadata": {},
     "output_type": "display_data"
    }
   ],
   "source": [
    "select(ddf,name,score)"
   ]
  },
  {
   "cell_type": "code",
   "execution_count": 9,
   "metadata": {},
   "outputs": [
    {
     "data": {
      "text/html": [
       "<table>\n",
       "<thead><tr><th scope=col>class</th><th scope=col>game</th><th scope=col>score</th></tr></thead>\n",
       "<tbody>\n",
       "\t<tr><td>A       </td><td>football</td><td>60      </td></tr>\n",
       "\t<tr><td>C       </td><td>cricket </td><td>61      </td></tr>\n",
       "\t<tr><td>C       </td><td>football</td><td>69      </td></tr>\n",
       "\t<tr><td>C       </td><td>cricket </td><td>97      </td></tr>\n",
       "\t<tr><td>C       </td><td>kabadi  </td><td>84      </td></tr>\n",
       "\t<tr><td>C       </td><td>cricket </td><td>45      </td></tr>\n",
       "</tbody>\n",
       "</table>\n"
      ],
      "text/latex": [
       "\\begin{tabular}{r|lll}\n",
       " class & game & score\\\\\n",
       "\\hline\n",
       "\t A        & football & 60      \\\\\n",
       "\t C        & cricket  & 61      \\\\\n",
       "\t C        & football & 69      \\\\\n",
       "\t C        & cricket  & 97      \\\\\n",
       "\t C        & kabadi   & 84      \\\\\n",
       "\t C        & cricket  & 45      \\\\\n",
       "\\end{tabular}\n"
      ],
      "text/markdown": [
       "\n",
       "| class | game | score |\n",
       "|---|---|---|\n",
       "| A        | football | 60       |\n",
       "| C        | cricket  | 61       |\n",
       "| C        | football | 69       |\n",
       "| C        | cricket  | 97       |\n",
       "| C        | kabadi   | 84       |\n",
       "| C        | cricket  | 45       |\n",
       "\n"
      ],
      "text/plain": [
       "  class game     score\n",
       "1 A     football 60   \n",
       "2 C     cricket  61   \n",
       "3 C     football 69   \n",
       "4 C     cricket  97   \n",
       "5 C     kabadi   84   \n",
       "6 C     cricket  45   "
      ]
     },
     "metadata": {},
     "output_type": "display_data"
    }
   ],
   "source": [
    "select(ddf,-id,-name)"
   ]
  },
  {
   "cell_type": "code",
   "execution_count": 10,
   "metadata": {},
   "outputs": [],
   "source": [
    "library(ggplot2)"
   ]
  },
  {
   "cell_type": "code",
   "execution_count": 11,
   "metadata": {},
   "outputs": [
    {
     "data": {
      "text/html": [
       "<table>\n",
       "<thead><tr><th scope=col>manufacturer</th><th scope=col>model</th><th scope=col>displ</th><th scope=col>year</th><th scope=col>cyl</th><th scope=col>trans</th><th scope=col>drv</th><th scope=col>cty</th><th scope=col>hwy</th><th scope=col>fl</th><th scope=col>class</th></tr></thead>\n",
       "<tbody>\n",
       "\t<tr><td>audi      </td><td>a4        </td><td>1.8       </td><td>1999      </td><td>4         </td><td>auto(l5)  </td><td>f         </td><td>18        </td><td>29        </td><td>p         </td><td>compact   </td></tr>\n",
       "\t<tr><td>audi      </td><td>a4        </td><td>1.8       </td><td>1999      </td><td>4         </td><td>manual(m5)</td><td>f         </td><td>21        </td><td>29        </td><td>p         </td><td>compact   </td></tr>\n",
       "\t<tr><td>audi      </td><td>a4        </td><td>2.0       </td><td>2008      </td><td>4         </td><td>manual(m6)</td><td>f         </td><td>20        </td><td>31        </td><td>p         </td><td>compact   </td></tr>\n",
       "\t<tr><td>audi      </td><td>a4        </td><td>2.0       </td><td>2008      </td><td>4         </td><td>auto(av)  </td><td>f         </td><td>21        </td><td>30        </td><td>p         </td><td>compact   </td></tr>\n",
       "\t<tr><td>audi      </td><td>a4        </td><td>2.8       </td><td>1999      </td><td>6         </td><td>auto(l5)  </td><td>f         </td><td>16        </td><td>26        </td><td>p         </td><td>compact   </td></tr>\n",
       "\t<tr><td>audi      </td><td>a4        </td><td>2.8       </td><td>1999      </td><td>6         </td><td>manual(m5)</td><td>f         </td><td>18        </td><td>26        </td><td>p         </td><td>compact   </td></tr>\n",
       "</tbody>\n",
       "</table>\n"
      ],
      "text/latex": [
       "\\begin{tabular}{r|lllllllllll}\n",
       " manufacturer & model & displ & year & cyl & trans & drv & cty & hwy & fl & class\\\\\n",
       "\\hline\n",
       "\t audi       & a4         & 1.8        & 1999       & 4          & auto(l5)   & f          & 18         & 29         & p          & compact   \\\\\n",
       "\t audi       & a4         & 1.8        & 1999       & 4          & manual(m5) & f          & 21         & 29         & p          & compact   \\\\\n",
       "\t audi       & a4         & 2.0        & 2008       & 4          & manual(m6) & f          & 20         & 31         & p          & compact   \\\\\n",
       "\t audi       & a4         & 2.0        & 2008       & 4          & auto(av)   & f          & 21         & 30         & p          & compact   \\\\\n",
       "\t audi       & a4         & 2.8        & 1999       & 6          & auto(l5)   & f          & 16         & 26         & p          & compact   \\\\\n",
       "\t audi       & a4         & 2.8        & 1999       & 6          & manual(m5) & f          & 18         & 26         & p          & compact   \\\\\n",
       "\\end{tabular}\n"
      ],
      "text/markdown": [
       "\n",
       "| manufacturer | model | displ | year | cyl | trans | drv | cty | hwy | fl | class |\n",
       "|---|---|---|---|---|---|---|---|---|---|---|\n",
       "| audi       | a4         | 1.8        | 1999       | 4          | auto(l5)   | f          | 18         | 29         | p          | compact    |\n",
       "| audi       | a4         | 1.8        | 1999       | 4          | manual(m5) | f          | 21         | 29         | p          | compact    |\n",
       "| audi       | a4         | 2.0        | 2008       | 4          | manual(m6) | f          | 20         | 31         | p          | compact    |\n",
       "| audi       | a4         | 2.0        | 2008       | 4          | auto(av)   | f          | 21         | 30         | p          | compact    |\n",
       "| audi       | a4         | 2.8        | 1999       | 6          | auto(l5)   | f          | 16         | 26         | p          | compact    |\n",
       "| audi       | a4         | 2.8        | 1999       | 6          | manual(m5) | f          | 18         | 26         | p          | compact    |\n",
       "\n"
      ],
      "text/plain": [
       "  manufacturer model displ year cyl trans      drv cty hwy fl class  \n",
       "1 audi         a4    1.8   1999 4   auto(l5)   f   18  29  p  compact\n",
       "2 audi         a4    1.8   1999 4   manual(m5) f   21  29  p  compact\n",
       "3 audi         a4    2.0   2008 4   manual(m6) f   20  31  p  compact\n",
       "4 audi         a4    2.0   2008 4   auto(av)   f   21  30  p  compact\n",
       "5 audi         a4    2.8   1999 6   auto(l5)   f   16  26  p  compact\n",
       "6 audi         a4    2.8   1999 6   manual(m5) f   18  26  p  compact"
      ]
     },
     "metadata": {},
     "output_type": "display_data"
    }
   ],
   "source": [
    "head(mpg)"
   ]
  },
  {
   "cell_type": "code",
   "execution_count": 12,
   "metadata": {},
   "outputs": [
    {
     "data": {
      "text/html": [
       "<table>\n",
       "<thead><tr><th scope=col>cty</th><th scope=col>hwy</th><th scope=col>displ</th></tr></thead>\n",
       "<tbody>\n",
       "\t<tr><td>18 </td><td>29 </td><td>1.8</td></tr>\n",
       "\t<tr><td>21 </td><td>29 </td><td>1.8</td></tr>\n",
       "\t<tr><td>20 </td><td>31 </td><td>2.0</td></tr>\n",
       "\t<tr><td>21 </td><td>30 </td><td>2.0</td></tr>\n",
       "\t<tr><td>16 </td><td>26 </td><td>2.8</td></tr>\n",
       "\t<tr><td>18 </td><td>26 </td><td>2.8</td></tr>\n",
       "</tbody>\n",
       "</table>\n"
      ],
      "text/latex": [
       "\\begin{tabular}{r|lll}\n",
       " cty & hwy & displ\\\\\n",
       "\\hline\n",
       "\t 18  & 29  & 1.8\\\\\n",
       "\t 21  & 29  & 1.8\\\\\n",
       "\t 20  & 31  & 2.0\\\\\n",
       "\t 21  & 30  & 2.0\\\\\n",
       "\t 16  & 26  & 2.8\\\\\n",
       "\t 18  & 26  & 2.8\\\\\n",
       "\\end{tabular}\n"
      ],
      "text/markdown": [
       "\n",
       "| cty | hwy | displ |\n",
       "|---|---|---|\n",
       "| 18  | 29  | 1.8 |\n",
       "| 21  | 29  | 1.8 |\n",
       "| 20  | 31  | 2.0 |\n",
       "| 21  | 30  | 2.0 |\n",
       "| 16  | 26  | 2.8 |\n",
       "| 18  | 26  | 2.8 |\n",
       "\n"
      ],
      "text/plain": [
       "  cty hwy displ\n",
       "1 18  29  1.8  \n",
       "2 21  29  1.8  \n",
       "3 20  31  2.0  \n",
       "4 21  30  2.0  \n",
       "5 16  26  2.8  \n",
       "6 18  26  2.8  "
      ]
     },
     "metadata": {},
     "output_type": "display_data"
    }
   ],
   "source": [
    "head(select(mpg,cty,hwy,displ))"
   ]
  },
  {
   "cell_type": "code",
   "execution_count": 13,
   "metadata": {},
   "outputs": [
    {
     "data": {
      "text/html": [
       "<table>\n",
       "<thead><tr><th scope=col>id</th><th scope=col>game</th><th scope=col>score</th></tr></thead>\n",
       "<tbody>\n",
       "\t<tr><td>14      </td><td>football</td><td>99      </td></tr>\n",
       "\t<tr><td> 2      </td><td>football</td><td>60      </td></tr>\n",
       "\t<tr><td> 5      </td><td>cricket </td><td>61      </td></tr>\n",
       "\t<tr><td>15      </td><td>kabadi  </td><td>46      </td></tr>\n",
       "\t<tr><td> 8      </td><td>cricket </td><td>97      </td></tr>\n",
       "\t<tr><td> 7      </td><td>football</td><td>69      </td></tr>\n",
       "</tbody>\n",
       "</table>\n"
      ],
      "text/latex": [
       "\\begin{tabular}{r|lll}\n",
       " id & game & score\\\\\n",
       "\\hline\n",
       "\t 14       & football & 99      \\\\\n",
       "\t  2       & football & 60      \\\\\n",
       "\t  5       & cricket  & 61      \\\\\n",
       "\t 15       & kabadi   & 46      \\\\\n",
       "\t  8       & cricket  & 97      \\\\\n",
       "\t  7       & football & 69      \\\\\n",
       "\\end{tabular}\n"
      ],
      "text/markdown": [
       "\n",
       "| id | game | score |\n",
       "|---|---|---|\n",
       "| 14       | football | 99       |\n",
       "|  2       | football | 60       |\n",
       "|  5       | cricket  | 61       |\n",
       "| 15       | kabadi   | 46       |\n",
       "|  8       | cricket  | 97       |\n",
       "|  7       | football | 69       |\n",
       "\n"
      ],
      "text/plain": [
       "  id game     score\n",
       "1 14 football 99   \n",
       "2  2 football 60   \n",
       "3  5 cricket  61   \n",
       "4 15 kabadi   46   \n",
       "5  8 cricket  97   \n",
       "6  7 football 69   "
      ]
     },
     "metadata": {},
     "output_type": "display_data"
    }
   ],
   "source": [
    "head(game)"
   ]
  },
  {
   "cell_type": "code",
   "execution_count": 14,
   "metadata": {},
   "outputs": [
    {
     "data": {
      "text/html": [
       "<table>\n",
       "<thead><tr><th scope=col>id</th><th scope=col>game</th><th scope=col>score</th></tr></thead>\n",
       "<tbody>\n",
       "\t<tr><td>14      </td><td>football</td><td>99      </td></tr>\n",
       "\t<tr><td> 8      </td><td>cricket </td><td>97      </td></tr>\n",
       "</tbody>\n",
       "</table>\n"
      ],
      "text/latex": [
       "\\begin{tabular}{r|lll}\n",
       " id & game & score\\\\\n",
       "\\hline\n",
       "\t 14       & football & 99      \\\\\n",
       "\t  8       & cricket  & 97      \\\\\n",
       "\\end{tabular}\n"
      ],
      "text/markdown": [
       "\n",
       "| id | game | score |\n",
       "|---|---|---|\n",
       "| 14       | football | 99       |\n",
       "|  8       | cricket  | 97       |\n",
       "\n"
      ],
      "text/plain": [
       "  id game     score\n",
       "1 14 football 99   \n",
       "2  8 cricket  97   "
      ]
     },
     "metadata": {},
     "output_type": "display_data"
    }
   ],
   "source": [
    "filter(game,score>90)"
   ]
  },
  {
   "cell_type": "code",
   "execution_count": 15,
   "metadata": {},
   "outputs": [
    {
     "data": {
      "text/html": [
       "<table>\n",
       "<thead><tr><th scope=col>id</th><th scope=col>game</th><th scope=col>score</th></tr></thead>\n",
       "<tbody>\n",
       "\t<tr><td>8      </td><td>cricket</td><td>97     </td></tr>\n",
       "</tbody>\n",
       "</table>\n"
      ],
      "text/latex": [
       "\\begin{tabular}{r|lll}\n",
       " id & game & score\\\\\n",
       "\\hline\n",
       "\t 8       & cricket & 97     \\\\\n",
       "\\end{tabular}\n"
      ],
      "text/markdown": [
       "\n",
       "| id | game | score |\n",
       "|---|---|---|\n",
       "| 8       | cricket | 97      |\n",
       "\n"
      ],
      "text/plain": [
       "  id game    score\n",
       "1 8  cricket 97   "
      ]
     },
     "metadata": {},
     "output_type": "display_data"
    }
   ],
   "source": [
    "filter(game,score>70,game==\"cricket\")"
   ]
  },
  {
   "cell_type": "code",
   "execution_count": 16,
   "metadata": {},
   "outputs": [
    {
     "data": {
      "text/html": [
       "<table>\n",
       "<thead><tr><th scope=col>Sepal.Length</th><th scope=col>Sepal.Width</th><th scope=col>Petal.Length</th><th scope=col>Petal.Width</th><th scope=col>Species</th></tr></thead>\n",
       "<tbody>\n",
       "\t<tr><td>5.1   </td><td>3.5   </td><td>1.4   </td><td>0.2   </td><td>setosa</td></tr>\n",
       "\t<tr><td>4.9   </td><td>3.0   </td><td>1.4   </td><td>0.2   </td><td>setosa</td></tr>\n",
       "\t<tr><td>4.7   </td><td>3.2   </td><td>1.3   </td><td>0.2   </td><td>setosa</td></tr>\n",
       "\t<tr><td>4.6   </td><td>3.1   </td><td>1.5   </td><td>0.2   </td><td>setosa</td></tr>\n",
       "\t<tr><td>5.0   </td><td>3.6   </td><td>1.4   </td><td>0.2   </td><td>setosa</td></tr>\n",
       "\t<tr><td>5.4   </td><td>3.9   </td><td>1.7   </td><td>0.4   </td><td>setosa</td></tr>\n",
       "</tbody>\n",
       "</table>\n"
      ],
      "text/latex": [
       "\\begin{tabular}{r|lllll}\n",
       " Sepal.Length & Sepal.Width & Petal.Length & Petal.Width & Species\\\\\n",
       "\\hline\n",
       "\t 5.1    & 3.5    & 1.4    & 0.2    & setosa\\\\\n",
       "\t 4.9    & 3.0    & 1.4    & 0.2    & setosa\\\\\n",
       "\t 4.7    & 3.2    & 1.3    & 0.2    & setosa\\\\\n",
       "\t 4.6    & 3.1    & 1.5    & 0.2    & setosa\\\\\n",
       "\t 5.0    & 3.6    & 1.4    & 0.2    & setosa\\\\\n",
       "\t 5.4    & 3.9    & 1.7    & 0.4    & setosa\\\\\n",
       "\\end{tabular}\n"
      ],
      "text/markdown": [
       "\n",
       "| Sepal.Length | Sepal.Width | Petal.Length | Petal.Width | Species |\n",
       "|---|---|---|---|---|\n",
       "| 5.1    | 3.5    | 1.4    | 0.2    | setosa |\n",
       "| 4.9    | 3.0    | 1.4    | 0.2    | setosa |\n",
       "| 4.7    | 3.2    | 1.3    | 0.2    | setosa |\n",
       "| 4.6    | 3.1    | 1.5    | 0.2    | setosa |\n",
       "| 5.0    | 3.6    | 1.4    | 0.2    | setosa |\n",
       "| 5.4    | 3.9    | 1.7    | 0.4    | setosa |\n",
       "\n"
      ],
      "text/plain": [
       "  Sepal.Length Sepal.Width Petal.Length Petal.Width Species\n",
       "1 5.1          3.5         1.4          0.2         setosa \n",
       "2 4.9          3.0         1.4          0.2         setosa \n",
       "3 4.7          3.2         1.3          0.2         setosa \n",
       "4 4.6          3.1         1.5          0.2         setosa \n",
       "5 5.0          3.6         1.4          0.2         setosa \n",
       "6 5.4          3.9         1.7          0.4         setosa "
      ]
     },
     "metadata": {},
     "output_type": "display_data"
    }
   ],
   "source": [
    "head(iris)"
   ]
  },
  {
   "cell_type": "code",
   "execution_count": 17,
   "metadata": {},
   "outputs": [
    {
     "data": {
      "text/html": [
       "<table>\n",
       "<thead><tr><th scope=col>Sepal.Length</th><th scope=col>Species</th></tr></thead>\n",
       "<tbody>\n",
       "\t<tr><td>5.1   </td><td>setosa</td></tr>\n",
       "\t<tr><td>4.9   </td><td>setosa</td></tr>\n",
       "\t<tr><td>4.7   </td><td>setosa</td></tr>\n",
       "\t<tr><td>4.6   </td><td>setosa</td></tr>\n",
       "\t<tr><td>5.0   </td><td>setosa</td></tr>\n",
       "\t<tr><td>5.4   </td><td>setosa</td></tr>\n",
       "</tbody>\n",
       "</table>\n"
      ],
      "text/latex": [
       "\\begin{tabular}{r|ll}\n",
       " Sepal.Length & Species\\\\\n",
       "\\hline\n",
       "\t 5.1    & setosa\\\\\n",
       "\t 4.9    & setosa\\\\\n",
       "\t 4.7    & setosa\\\\\n",
       "\t 4.6    & setosa\\\\\n",
       "\t 5.0    & setosa\\\\\n",
       "\t 5.4    & setosa\\\\\n",
       "\\end{tabular}\n"
      ],
      "text/markdown": [
       "\n",
       "| Sepal.Length | Species |\n",
       "|---|---|\n",
       "| 5.1    | setosa |\n",
       "| 4.9    | setosa |\n",
       "| 4.7    | setosa |\n",
       "| 4.6    | setosa |\n",
       "| 5.0    | setosa |\n",
       "| 5.4    | setosa |\n",
       "\n"
      ],
      "text/plain": [
       "  Sepal.Length Species\n",
       "1 5.1          setosa \n",
       "2 4.9          setosa \n",
       "3 4.7          setosa \n",
       "4 4.6          setosa \n",
       "5 5.0          setosa \n",
       "6 5.4          setosa "
      ]
     },
     "metadata": {},
     "output_type": "display_data"
    }
   ],
   "source": [
    "head(select(iris,Sepal.Length,Species))"
   ]
  },
  {
   "cell_type": "code",
   "execution_count": 18,
   "metadata": {},
   "outputs": [
    {
     "data": {
      "text/html": [
       "<table>\n",
       "<thead><tr><th scope=col>Sepal.Length</th><th scope=col>Sepal.Width</th><th scope=col>Petal.Length</th><th scope=col>Petal.Width</th><th scope=col>Species</th></tr></thead>\n",
       "<tbody>\n",
       "\t<tr><td>5.1   </td><td>3.5   </td><td>1.4   </td><td>0.2   </td><td>setosa</td></tr>\n",
       "\t<tr><td>5.4   </td><td>3.9   </td><td>1.7   </td><td>0.4   </td><td>setosa</td></tr>\n",
       "\t<tr><td>5.4   </td><td>3.7   </td><td>1.5   </td><td>0.2   </td><td>setosa</td></tr>\n",
       "\t<tr><td>5.8   </td><td>4.0   </td><td>1.2   </td><td>0.2   </td><td>setosa</td></tr>\n",
       "\t<tr><td>5.7   </td><td>4.4   </td><td>1.5   </td><td>0.4   </td><td>setosa</td></tr>\n",
       "\t<tr><td>5.4   </td><td>3.9   </td><td>1.3   </td><td>0.4   </td><td>setosa</td></tr>\n",
       "</tbody>\n",
       "</table>\n"
      ],
      "text/latex": [
       "\\begin{tabular}{r|lllll}\n",
       " Sepal.Length & Sepal.Width & Petal.Length & Petal.Width & Species\\\\\n",
       "\\hline\n",
       "\t 5.1    & 3.5    & 1.4    & 0.2    & setosa\\\\\n",
       "\t 5.4    & 3.9    & 1.7    & 0.4    & setosa\\\\\n",
       "\t 5.4    & 3.7    & 1.5    & 0.2    & setosa\\\\\n",
       "\t 5.8    & 4.0    & 1.2    & 0.2    & setosa\\\\\n",
       "\t 5.7    & 4.4    & 1.5    & 0.4    & setosa\\\\\n",
       "\t 5.4    & 3.9    & 1.3    & 0.4    & setosa\\\\\n",
       "\\end{tabular}\n"
      ],
      "text/markdown": [
       "\n",
       "| Sepal.Length | Sepal.Width | Petal.Length | Petal.Width | Species |\n",
       "|---|---|---|---|---|\n",
       "| 5.1    | 3.5    | 1.4    | 0.2    | setosa |\n",
       "| 5.4    | 3.9    | 1.7    | 0.4    | setosa |\n",
       "| 5.4    | 3.7    | 1.5    | 0.2    | setosa |\n",
       "| 5.8    | 4.0    | 1.2    | 0.2    | setosa |\n",
       "| 5.7    | 4.4    | 1.5    | 0.4    | setosa |\n",
       "| 5.4    | 3.9    | 1.3    | 0.4    | setosa |\n",
       "\n"
      ],
      "text/plain": [
       "  Sepal.Length Sepal.Width Petal.Length Petal.Width Species\n",
       "1 5.1          3.5         1.4          0.2         setosa \n",
       "2 5.4          3.9         1.7          0.4         setosa \n",
       "3 5.4          3.7         1.5          0.2         setosa \n",
       "4 5.8          4.0         1.2          0.2         setosa \n",
       "5 5.7          4.4         1.5          0.4         setosa \n",
       "6 5.4          3.9         1.3          0.4         setosa "
      ]
     },
     "metadata": {},
     "output_type": "display_data"
    }
   ],
   "source": [
    "head(filter(iris,Sepal.Length>5))"
   ]
  },
  {
   "cell_type": "code",
   "execution_count": 19,
   "metadata": {},
   "outputs": [
    {
     "data": {
      "text/html": [
       "<table>\n",
       "<thead><tr><th scope=col>manufacturer</th><th scope=col>model</th><th scope=col>displ</th><th scope=col>year</th><th scope=col>cyl</th><th scope=col>trans</th><th scope=col>drv</th><th scope=col>cty</th><th scope=col>hwy</th><th scope=col>fl</th><th scope=col>class</th></tr></thead>\n",
       "<tbody>\n",
       "\t<tr><td>audi      </td><td>a4        </td><td>1.8       </td><td>1999      </td><td>4         </td><td>auto(l5)  </td><td>f         </td><td>18        </td><td>29        </td><td>p         </td><td>compact   </td></tr>\n",
       "\t<tr><td>audi      </td><td>a4        </td><td>1.8       </td><td>1999      </td><td>4         </td><td>manual(m5)</td><td>f         </td><td>21        </td><td>29        </td><td>p         </td><td>compact   </td></tr>\n",
       "\t<tr><td>audi      </td><td>a4        </td><td>2.0       </td><td>2008      </td><td>4         </td><td>manual(m6)</td><td>f         </td><td>20        </td><td>31        </td><td>p         </td><td>compact   </td></tr>\n",
       "\t<tr><td>audi      </td><td>a4        </td><td>2.0       </td><td>2008      </td><td>4         </td><td>auto(av)  </td><td>f         </td><td>21        </td><td>30        </td><td>p         </td><td>compact   </td></tr>\n",
       "\t<tr><td>audi      </td><td>a4        </td><td>2.8       </td><td>1999      </td><td>6         </td><td>auto(l5)  </td><td>f         </td><td>16        </td><td>26        </td><td>p         </td><td>compact   </td></tr>\n",
       "\t<tr><td>audi      </td><td>a4        </td><td>2.8       </td><td>1999      </td><td>6         </td><td>manual(m5)</td><td>f         </td><td>18        </td><td>26        </td><td>p         </td><td>compact   </td></tr>\n",
       "</tbody>\n",
       "</table>\n"
      ],
      "text/latex": [
       "\\begin{tabular}{r|lllllllllll}\n",
       " manufacturer & model & displ & year & cyl & trans & drv & cty & hwy & fl & class\\\\\n",
       "\\hline\n",
       "\t audi       & a4         & 1.8        & 1999       & 4          & auto(l5)   & f          & 18         & 29         & p          & compact   \\\\\n",
       "\t audi       & a4         & 1.8        & 1999       & 4          & manual(m5) & f          & 21         & 29         & p          & compact   \\\\\n",
       "\t audi       & a4         & 2.0        & 2008       & 4          & manual(m6) & f          & 20         & 31         & p          & compact   \\\\\n",
       "\t audi       & a4         & 2.0        & 2008       & 4          & auto(av)   & f          & 21         & 30         & p          & compact   \\\\\n",
       "\t audi       & a4         & 2.8        & 1999       & 6          & auto(l5)   & f          & 16         & 26         & p          & compact   \\\\\n",
       "\t audi       & a4         & 2.8        & 1999       & 6          & manual(m5) & f          & 18         & 26         & p          & compact   \\\\\n",
       "\\end{tabular}\n"
      ],
      "text/markdown": [
       "\n",
       "| manufacturer | model | displ | year | cyl | trans | drv | cty | hwy | fl | class |\n",
       "|---|---|---|---|---|---|---|---|---|---|---|\n",
       "| audi       | a4         | 1.8        | 1999       | 4          | auto(l5)   | f          | 18         | 29         | p          | compact    |\n",
       "| audi       | a4         | 1.8        | 1999       | 4          | manual(m5) | f          | 21         | 29         | p          | compact    |\n",
       "| audi       | a4         | 2.0        | 2008       | 4          | manual(m6) | f          | 20         | 31         | p          | compact    |\n",
       "| audi       | a4         | 2.0        | 2008       | 4          | auto(av)   | f          | 21         | 30         | p          | compact    |\n",
       "| audi       | a4         | 2.8        | 1999       | 6          | auto(l5)   | f          | 16         | 26         | p          | compact    |\n",
       "| audi       | a4         | 2.8        | 1999       | 6          | manual(m5) | f          | 18         | 26         | p          | compact    |\n",
       "\n"
      ],
      "text/plain": [
       "  manufacturer model displ year cyl trans      drv cty hwy fl class  \n",
       "1 audi         a4    1.8   1999 4   auto(l5)   f   18  29  p  compact\n",
       "2 audi         a4    1.8   1999 4   manual(m5) f   21  29  p  compact\n",
       "3 audi         a4    2.0   2008 4   manual(m6) f   20  31  p  compact\n",
       "4 audi         a4    2.0   2008 4   auto(av)   f   21  30  p  compact\n",
       "5 audi         a4    2.8   1999 6   auto(l5)   f   16  26  p  compact\n",
       "6 audi         a4    2.8   1999 6   manual(m5) f   18  26  p  compact"
      ]
     },
     "metadata": {},
     "output_type": "display_data"
    }
   ],
   "source": [
    "head(mpg)"
   ]
  },
  {
   "cell_type": "code",
   "execution_count": 20,
   "metadata": {},
   "outputs": [
    {
     "data": {
      "text/html": [
       "<table>\n",
       "<thead><tr><th scope=col>manufacturer</th><th scope=col>displ</th></tr></thead>\n",
       "<tbody>\n",
       "\t<tr><td>audi     </td><td>1.8      </td></tr>\n",
       "\t<tr><td>audi     </td><td>2.0      </td></tr>\n",
       "\t<tr><td>chevrolet</td><td>2.4      </td></tr>\n",
       "\t<tr><td>honda    </td><td>1.6      </td></tr>\n",
       "\t<tr><td>honda    </td><td>1.6      </td></tr>\n",
       "\t<tr><td>honda    </td><td>1.6      </td></tr>\n",
       "</tbody>\n",
       "</table>\n"
      ],
      "text/latex": [
       "\\begin{tabular}{r|ll}\n",
       " manufacturer & displ\\\\\n",
       "\\hline\n",
       "\t audi      & 1.8      \\\\\n",
       "\t audi      & 2.0      \\\\\n",
       "\t chevrolet & 2.4      \\\\\n",
       "\t honda     & 1.6      \\\\\n",
       "\t honda     & 1.6      \\\\\n",
       "\t honda     & 1.6      \\\\\n",
       "\\end{tabular}\n"
      ],
      "text/markdown": [
       "\n",
       "| manufacturer | displ |\n",
       "|---|---|\n",
       "| audi      | 1.8       |\n",
       "| audi      | 2.0       |\n",
       "| chevrolet | 2.4       |\n",
       "| honda     | 1.6       |\n",
       "| honda     | 1.6       |\n",
       "| honda     | 1.6       |\n",
       "\n"
      ],
      "text/plain": [
       "  manufacturer displ\n",
       "1 audi         1.8  \n",
       "2 audi         2.0  \n",
       "3 chevrolet    2.4  \n",
       "4 honda        1.6  \n",
       "5 honda        1.6  \n",
       "6 honda        1.6  "
      ]
     },
     "metadata": {},
     "output_type": "display_data"
    }
   ],
   "source": [
    "\n",
    "mpg1=(filter(mpg,cty>20,hwy>25))\n",
    "head(select(mpg1,manufacturer,displ))"
   ]
  },
  {
   "cell_type": "code",
   "execution_count": 21,
   "metadata": {},
   "outputs": [],
   "source": [
    "data$maths=sample(40:100,10)\n",
    "data$sci=sample(40:100,10)\n",
    "data$other=sample(40:100,10)"
   ]
  },
  {
   "cell_type": "code",
   "execution_count": 22,
   "metadata": {
    "scrolled": true
   },
   "outputs": [
    {
     "data": {
      "text/html": [
       "<table>\n",
       "<thead><tr><th scope=col>id</th><th scope=col>name</th><th scope=col>class</th><th scope=col>maths</th><th scope=col>sci</th><th scope=col>other</th></tr></thead>\n",
       "<tbody>\n",
       "\t<tr><td>1       </td><td>pappu   </td><td>C       </td><td>72      </td><td>75      </td><td>48      </td></tr>\n",
       "\t<tr><td>2       </td><td>modi    </td><td>A       </td><td>65      </td><td>73      </td><td>68      </td></tr>\n",
       "\t<tr><td>3       </td><td>saha    </td><td>A       </td><td>83      </td><td>49      </td><td>69      </td></tr>\n",
       "\t<tr><td>4       </td><td>rahul   </td><td>C       </td><td>69      </td><td>92      </td><td>86      </td></tr>\n",
       "\t<tr><td>5       </td><td>amit    </td><td>C       </td><td>66      </td><td>57      </td><td>71      </td></tr>\n",
       "\t<tr><td>6       </td><td>narendra</td><td>C       </td><td>75      </td><td>99      </td><td>88      </td></tr>\n",
       "</tbody>\n",
       "</table>\n"
      ],
      "text/latex": [
       "\\begin{tabular}{r|llllll}\n",
       " id & name & class & maths & sci & other\\\\\n",
       "\\hline\n",
       "\t 1        & pappu    & C        & 72       & 75       & 48      \\\\\n",
       "\t 2        & modi     & A        & 65       & 73       & 68      \\\\\n",
       "\t 3        & saha     & A        & 83       & 49       & 69      \\\\\n",
       "\t 4        & rahul    & C        & 69       & 92       & 86      \\\\\n",
       "\t 5        & amit     & C        & 66       & 57       & 71      \\\\\n",
       "\t 6        & narendra & C        & 75       & 99       & 88      \\\\\n",
       "\\end{tabular}\n"
      ],
      "text/markdown": [
       "\n",
       "| id | name | class | maths | sci | other |\n",
       "|---|---|---|---|---|---|\n",
       "| 1        | pappu    | C        | 72       | 75       | 48       |\n",
       "| 2        | modi     | A        | 65       | 73       | 68       |\n",
       "| 3        | saha     | A        | 83       | 49       | 69       |\n",
       "| 4        | rahul    | C        | 69       | 92       | 86       |\n",
       "| 5        | amit     | C        | 66       | 57       | 71       |\n",
       "| 6        | narendra | C        | 75       | 99       | 88       |\n",
       "\n"
      ],
      "text/plain": [
       "  id name     class maths sci other\n",
       "1 1  pappu    C     72    75  48   \n",
       "2 2  modi     A     65    73  68   \n",
       "3 3  saha     A     83    49  69   \n",
       "4 4  rahul    C     69    92  86   \n",
       "5 5  amit     C     66    57  71   \n",
       "6 6  narendra C     75    99  88   "
      ]
     },
     "metadata": {},
     "output_type": "display_data"
    }
   ],
   "source": [
    "head(data)"
   ]
  },
  {
   "cell_type": "code",
   "execution_count": 23,
   "metadata": {},
   "outputs": [],
   "source": [
    "data=mutate(data,percentage=(maths+sci+other)/3)"
   ]
  },
  {
   "cell_type": "code",
   "execution_count": 24,
   "metadata": {},
   "outputs": [
    {
     "data": {
      "text/html": [
       "<table>\n",
       "<thead><tr><th scope=col>id</th><th scope=col>name</th><th scope=col>class</th><th scope=col>maths</th><th scope=col>sci</th><th scope=col>other</th><th scope=col>percentage</th></tr></thead>\n",
       "<tbody>\n",
       "\t<tr><td>1       </td><td>pappu   </td><td>C       </td><td>72      </td><td>75      </td><td>48      </td><td>65.00000</td></tr>\n",
       "\t<tr><td>2       </td><td>modi    </td><td>A       </td><td>65      </td><td>73      </td><td>68      </td><td>68.66667</td></tr>\n",
       "\t<tr><td>3       </td><td>saha    </td><td>A       </td><td>83      </td><td>49      </td><td>69      </td><td>67.00000</td></tr>\n",
       "\t<tr><td>4       </td><td>rahul   </td><td>C       </td><td>69      </td><td>92      </td><td>86      </td><td>82.33333</td></tr>\n",
       "\t<tr><td>5       </td><td>amit    </td><td>C       </td><td>66      </td><td>57      </td><td>71      </td><td>64.66667</td></tr>\n",
       "\t<tr><td>6       </td><td>narendra</td><td>C       </td><td>75      </td><td>99      </td><td>88      </td><td>87.33333</td></tr>\n",
       "</tbody>\n",
       "</table>\n"
      ],
      "text/latex": [
       "\\begin{tabular}{r|lllllll}\n",
       " id & name & class & maths & sci & other & percentage\\\\\n",
       "\\hline\n",
       "\t 1        & pappu    & C        & 72       & 75       & 48       & 65.00000\\\\\n",
       "\t 2        & modi     & A        & 65       & 73       & 68       & 68.66667\\\\\n",
       "\t 3        & saha     & A        & 83       & 49       & 69       & 67.00000\\\\\n",
       "\t 4        & rahul    & C        & 69       & 92       & 86       & 82.33333\\\\\n",
       "\t 5        & amit     & C        & 66       & 57       & 71       & 64.66667\\\\\n",
       "\t 6        & narendra & C        & 75       & 99       & 88       & 87.33333\\\\\n",
       "\\end{tabular}\n"
      ],
      "text/markdown": [
       "\n",
       "| id | name | class | maths | sci | other | percentage |\n",
       "|---|---|---|---|---|---|---|\n",
       "| 1        | pappu    | C        | 72       | 75       | 48       | 65.00000 |\n",
       "| 2        | modi     | A        | 65       | 73       | 68       | 68.66667 |\n",
       "| 3        | saha     | A        | 83       | 49       | 69       | 67.00000 |\n",
       "| 4        | rahul    | C        | 69       | 92       | 86       | 82.33333 |\n",
       "| 5        | amit     | C        | 66       | 57       | 71       | 64.66667 |\n",
       "| 6        | narendra | C        | 75       | 99       | 88       | 87.33333 |\n",
       "\n"
      ],
      "text/plain": [
       "  id name     class maths sci other percentage\n",
       "1 1  pappu    C     72    75  48    65.00000  \n",
       "2 2  modi     A     65    73  68    68.66667  \n",
       "3 3  saha     A     83    49  69    67.00000  \n",
       "4 4  rahul    C     69    92  86    82.33333  \n",
       "5 5  amit     C     66    57  71    64.66667  \n",
       "6 6  narendra C     75    99  88    87.33333  "
      ]
     },
     "metadata": {},
     "output_type": "display_data"
    }
   ],
   "source": [
    "head(data)"
   ]
  },
  {
   "cell_type": "markdown",
   "metadata": {},
   "source": [
    "##### SORT"
   ]
  },
  {
   "cell_type": "code",
   "execution_count": 25,
   "metadata": {},
   "outputs": [],
   "source": [
    "x=sample(10:100,40)\n"
   ]
  },
  {
   "cell_type": "code",
   "execution_count": 26,
   "metadata": {},
   "outputs": [
    {
     "data": {
      "text/html": [
       "<ol class=list-inline>\n",
       "\t<li>76</li>\n",
       "\t<li>68</li>\n",
       "\t<li>17</li>\n",
       "\t<li>79</li>\n",
       "\t<li>53</li>\n",
       "\t<li>28</li>\n",
       "\t<li>47</li>\n",
       "\t<li>25</li>\n",
       "\t<li>95</li>\n",
       "\t<li>36</li>\n",
       "\t<li>97</li>\n",
       "\t<li>41</li>\n",
       "\t<li>35</li>\n",
       "\t<li>16</li>\n",
       "\t<li>96</li>\n",
       "\t<li>15</li>\n",
       "\t<li>75</li>\n",
       "\t<li>39</li>\n",
       "\t<li>92</li>\n",
       "\t<li>11</li>\n",
       "\t<li>14</li>\n",
       "\t<li>65</li>\n",
       "\t<li>56</li>\n",
       "\t<li>93</li>\n",
       "\t<li>34</li>\n",
       "\t<li>77</li>\n",
       "\t<li>12</li>\n",
       "\t<li>89</li>\n",
       "\t<li>40</li>\n",
       "\t<li>99</li>\n",
       "\t<li>38</li>\n",
       "\t<li>26</li>\n",
       "\t<li>51</li>\n",
       "\t<li>23</li>\n",
       "\t<li>49</li>\n",
       "\t<li>27</li>\n",
       "\t<li>90</li>\n",
       "\t<li>83</li>\n",
       "\t<li>57</li>\n",
       "\t<li>85</li>\n",
       "</ol>\n"
      ],
      "text/latex": [
       "\\begin{enumerate*}\n",
       "\\item 76\n",
       "\\item 68\n",
       "\\item 17\n",
       "\\item 79\n",
       "\\item 53\n",
       "\\item 28\n",
       "\\item 47\n",
       "\\item 25\n",
       "\\item 95\n",
       "\\item 36\n",
       "\\item 97\n",
       "\\item 41\n",
       "\\item 35\n",
       "\\item 16\n",
       "\\item 96\n",
       "\\item 15\n",
       "\\item 75\n",
       "\\item 39\n",
       "\\item 92\n",
       "\\item 11\n",
       "\\item 14\n",
       "\\item 65\n",
       "\\item 56\n",
       "\\item 93\n",
       "\\item 34\n",
       "\\item 77\n",
       "\\item 12\n",
       "\\item 89\n",
       "\\item 40\n",
       "\\item 99\n",
       "\\item 38\n",
       "\\item 26\n",
       "\\item 51\n",
       "\\item 23\n",
       "\\item 49\n",
       "\\item 27\n",
       "\\item 90\n",
       "\\item 83\n",
       "\\item 57\n",
       "\\item 85\n",
       "\\end{enumerate*}\n"
      ],
      "text/markdown": [
       "1. 76\n",
       "2. 68\n",
       "3. 17\n",
       "4. 79\n",
       "5. 53\n",
       "6. 28\n",
       "7. 47\n",
       "8. 25\n",
       "9. 95\n",
       "10. 36\n",
       "11. 97\n",
       "12. 41\n",
       "13. 35\n",
       "14. 16\n",
       "15. 96\n",
       "16. 15\n",
       "17. 75\n",
       "18. 39\n",
       "19. 92\n",
       "20. 11\n",
       "21. 14\n",
       "22. 65\n",
       "23. 56\n",
       "24. 93\n",
       "25. 34\n",
       "26. 77\n",
       "27. 12\n",
       "28. 89\n",
       "29. 40\n",
       "30. 99\n",
       "31. 38\n",
       "32. 26\n",
       "33. 51\n",
       "34. 23\n",
       "35. 49\n",
       "36. 27\n",
       "37. 90\n",
       "38. 83\n",
       "39. 57\n",
       "40. 85\n",
       "\n",
       "\n"
      ],
      "text/plain": [
       " [1] 76 68 17 79 53 28 47 25 95 36 97 41 35 16 96 15 75 39 92 11 14 65 56 93 34\n",
       "[26] 77 12 89 40 99 38 26 51 23 49 27 90 83 57 85"
      ]
     },
     "metadata": {},
     "output_type": "display_data"
    }
   ],
   "source": [
    "x"
   ]
  },
  {
   "cell_type": "code",
   "execution_count": 27,
   "metadata": {},
   "outputs": [
    {
     "data": {
      "text/html": [
       "<ol class=list-inline>\n",
       "\t<li>11</li>\n",
       "\t<li>12</li>\n",
       "\t<li>14</li>\n",
       "\t<li>15</li>\n",
       "\t<li>16</li>\n",
       "\t<li>17</li>\n",
       "\t<li>23</li>\n",
       "\t<li>25</li>\n",
       "\t<li>26</li>\n",
       "\t<li>27</li>\n",
       "\t<li>28</li>\n",
       "\t<li>34</li>\n",
       "\t<li>35</li>\n",
       "\t<li>36</li>\n",
       "\t<li>38</li>\n",
       "\t<li>39</li>\n",
       "\t<li>40</li>\n",
       "\t<li>41</li>\n",
       "\t<li>47</li>\n",
       "\t<li>49</li>\n",
       "\t<li>51</li>\n",
       "\t<li>53</li>\n",
       "\t<li>56</li>\n",
       "\t<li>57</li>\n",
       "\t<li>65</li>\n",
       "\t<li>68</li>\n",
       "\t<li>75</li>\n",
       "\t<li>76</li>\n",
       "\t<li>77</li>\n",
       "\t<li>79</li>\n",
       "\t<li>83</li>\n",
       "\t<li>85</li>\n",
       "\t<li>89</li>\n",
       "\t<li>90</li>\n",
       "\t<li>92</li>\n",
       "\t<li>93</li>\n",
       "\t<li>95</li>\n",
       "\t<li>96</li>\n",
       "\t<li>97</li>\n",
       "\t<li>99</li>\n",
       "</ol>\n"
      ],
      "text/latex": [
       "\\begin{enumerate*}\n",
       "\\item 11\n",
       "\\item 12\n",
       "\\item 14\n",
       "\\item 15\n",
       "\\item 16\n",
       "\\item 17\n",
       "\\item 23\n",
       "\\item 25\n",
       "\\item 26\n",
       "\\item 27\n",
       "\\item 28\n",
       "\\item 34\n",
       "\\item 35\n",
       "\\item 36\n",
       "\\item 38\n",
       "\\item 39\n",
       "\\item 40\n",
       "\\item 41\n",
       "\\item 47\n",
       "\\item 49\n",
       "\\item 51\n",
       "\\item 53\n",
       "\\item 56\n",
       "\\item 57\n",
       "\\item 65\n",
       "\\item 68\n",
       "\\item 75\n",
       "\\item 76\n",
       "\\item 77\n",
       "\\item 79\n",
       "\\item 83\n",
       "\\item 85\n",
       "\\item 89\n",
       "\\item 90\n",
       "\\item 92\n",
       "\\item 93\n",
       "\\item 95\n",
       "\\item 96\n",
       "\\item 97\n",
       "\\item 99\n",
       "\\end{enumerate*}\n"
      ],
      "text/markdown": [
       "1. 11\n",
       "2. 12\n",
       "3. 14\n",
       "4. 15\n",
       "5. 16\n",
       "6. 17\n",
       "7. 23\n",
       "8. 25\n",
       "9. 26\n",
       "10. 27\n",
       "11. 28\n",
       "12. 34\n",
       "13. 35\n",
       "14. 36\n",
       "15. 38\n",
       "16. 39\n",
       "17. 40\n",
       "18. 41\n",
       "19. 47\n",
       "20. 49\n",
       "21. 51\n",
       "22. 53\n",
       "23. 56\n",
       "24. 57\n",
       "25. 65\n",
       "26. 68\n",
       "27. 75\n",
       "28. 76\n",
       "29. 77\n",
       "30. 79\n",
       "31. 83\n",
       "32. 85\n",
       "33. 89\n",
       "34. 90\n",
       "35. 92\n",
       "36. 93\n",
       "37. 95\n",
       "38. 96\n",
       "39. 97\n",
       "40. 99\n",
       "\n",
       "\n"
      ],
      "text/plain": [
       " [1] 11 12 14 15 16 17 23 25 26 27 28 34 35 36 38 39 40 41 47 49 51 53 56 57 65\n",
       "[26] 68 75 76 77 79 83 85 89 90 92 93 95 96 97 99"
      ]
     },
     "metadata": {},
     "output_type": "display_data"
    }
   ],
   "source": [
    "sort(x)"
   ]
  },
  {
   "cell_type": "code",
   "execution_count": 28,
   "metadata": {},
   "outputs": [
    {
     "data": {
      "text/html": [
       "<ol class=list-inline>\n",
       "\t<li>99</li>\n",
       "\t<li>97</li>\n",
       "\t<li>96</li>\n",
       "\t<li>95</li>\n",
       "\t<li>93</li>\n",
       "\t<li>92</li>\n",
       "\t<li>90</li>\n",
       "\t<li>89</li>\n",
       "\t<li>85</li>\n",
       "\t<li>83</li>\n",
       "\t<li>79</li>\n",
       "\t<li>77</li>\n",
       "\t<li>76</li>\n",
       "\t<li>75</li>\n",
       "\t<li>68</li>\n",
       "\t<li>65</li>\n",
       "\t<li>57</li>\n",
       "\t<li>56</li>\n",
       "\t<li>53</li>\n",
       "\t<li>51</li>\n",
       "\t<li>49</li>\n",
       "\t<li>47</li>\n",
       "\t<li>41</li>\n",
       "\t<li>40</li>\n",
       "\t<li>39</li>\n",
       "\t<li>38</li>\n",
       "\t<li>36</li>\n",
       "\t<li>35</li>\n",
       "\t<li>34</li>\n",
       "\t<li>28</li>\n",
       "\t<li>27</li>\n",
       "\t<li>26</li>\n",
       "\t<li>25</li>\n",
       "\t<li>23</li>\n",
       "\t<li>17</li>\n",
       "\t<li>16</li>\n",
       "\t<li>15</li>\n",
       "\t<li>14</li>\n",
       "\t<li>12</li>\n",
       "\t<li>11</li>\n",
       "</ol>\n"
      ],
      "text/latex": [
       "\\begin{enumerate*}\n",
       "\\item 99\n",
       "\\item 97\n",
       "\\item 96\n",
       "\\item 95\n",
       "\\item 93\n",
       "\\item 92\n",
       "\\item 90\n",
       "\\item 89\n",
       "\\item 85\n",
       "\\item 83\n",
       "\\item 79\n",
       "\\item 77\n",
       "\\item 76\n",
       "\\item 75\n",
       "\\item 68\n",
       "\\item 65\n",
       "\\item 57\n",
       "\\item 56\n",
       "\\item 53\n",
       "\\item 51\n",
       "\\item 49\n",
       "\\item 47\n",
       "\\item 41\n",
       "\\item 40\n",
       "\\item 39\n",
       "\\item 38\n",
       "\\item 36\n",
       "\\item 35\n",
       "\\item 34\n",
       "\\item 28\n",
       "\\item 27\n",
       "\\item 26\n",
       "\\item 25\n",
       "\\item 23\n",
       "\\item 17\n",
       "\\item 16\n",
       "\\item 15\n",
       "\\item 14\n",
       "\\item 12\n",
       "\\item 11\n",
       "\\end{enumerate*}\n"
      ],
      "text/markdown": [
       "1. 99\n",
       "2. 97\n",
       "3. 96\n",
       "4. 95\n",
       "5. 93\n",
       "6. 92\n",
       "7. 90\n",
       "8. 89\n",
       "9. 85\n",
       "10. 83\n",
       "11. 79\n",
       "12. 77\n",
       "13. 76\n",
       "14. 75\n",
       "15. 68\n",
       "16. 65\n",
       "17. 57\n",
       "18. 56\n",
       "19. 53\n",
       "20. 51\n",
       "21. 49\n",
       "22. 47\n",
       "23. 41\n",
       "24. 40\n",
       "25. 39\n",
       "26. 38\n",
       "27. 36\n",
       "28. 35\n",
       "29. 34\n",
       "30. 28\n",
       "31. 27\n",
       "32. 26\n",
       "33. 25\n",
       "34. 23\n",
       "35. 17\n",
       "36. 16\n",
       "37. 15\n",
       "38. 14\n",
       "39. 12\n",
       "40. 11\n",
       "\n",
       "\n"
      ],
      "text/plain": [
       " [1] 99 97 96 95 93 92 90 89 85 83 79 77 76 75 68 65 57 56 53 51 49 47 41 40 39\n",
       "[26] 38 36 35 34 28 27 26 25 23 17 16 15 14 12 11"
      ]
     },
     "metadata": {},
     "output_type": "display_data"
    }
   ],
   "source": [
    "sort(x,decreasing = T)"
   ]
  },
  {
   "cell_type": "code",
   "execution_count": 29,
   "metadata": {},
   "outputs": [
    {
     "data": {
      "text/html": [
       "<ol class=list-inline>\n",
       "\t<li>11</li>\n",
       "\t<li>12</li>\n",
       "\t<li>14</li>\n",
       "\t<li>15</li>\n",
       "\t<li>16</li>\n",
       "\t<li>17</li>\n",
       "\t<li>23</li>\n",
       "\t<li>25</li>\n",
       "\t<li>26</li>\n",
       "\t<li>27</li>\n",
       "\t<li>28</li>\n",
       "\t<li>34</li>\n",
       "\t<li>35</li>\n",
       "\t<li>36</li>\n",
       "\t<li>38</li>\n",
       "\t<li>39</li>\n",
       "\t<li>40</li>\n",
       "\t<li>41</li>\n",
       "\t<li>47</li>\n",
       "\t<li>49</li>\n",
       "\t<li>51</li>\n",
       "\t<li>53</li>\n",
       "\t<li>56</li>\n",
       "\t<li>57</li>\n",
       "\t<li>65</li>\n",
       "\t<li>68</li>\n",
       "\t<li>75</li>\n",
       "\t<li>76</li>\n",
       "\t<li>77</li>\n",
       "\t<li>79</li>\n",
       "\t<li>83</li>\n",
       "\t<li>85</li>\n",
       "\t<li>89</li>\n",
       "\t<li>90</li>\n",
       "\t<li>92</li>\n",
       "\t<li>93</li>\n",
       "\t<li>95</li>\n",
       "\t<li>96</li>\n",
       "\t<li>97</li>\n",
       "\t<li>99</li>\n",
       "</ol>\n"
      ],
      "text/latex": [
       "\\begin{enumerate*}\n",
       "\\item 11\n",
       "\\item 12\n",
       "\\item 14\n",
       "\\item 15\n",
       "\\item 16\n",
       "\\item 17\n",
       "\\item 23\n",
       "\\item 25\n",
       "\\item 26\n",
       "\\item 27\n",
       "\\item 28\n",
       "\\item 34\n",
       "\\item 35\n",
       "\\item 36\n",
       "\\item 38\n",
       "\\item 39\n",
       "\\item 40\n",
       "\\item 41\n",
       "\\item 47\n",
       "\\item 49\n",
       "\\item 51\n",
       "\\item 53\n",
       "\\item 56\n",
       "\\item 57\n",
       "\\item 65\n",
       "\\item 68\n",
       "\\item 75\n",
       "\\item 76\n",
       "\\item 77\n",
       "\\item 79\n",
       "\\item 83\n",
       "\\item 85\n",
       "\\item 89\n",
       "\\item 90\n",
       "\\item 92\n",
       "\\item 93\n",
       "\\item 95\n",
       "\\item 96\n",
       "\\item 97\n",
       "\\item 99\n",
       "\\end{enumerate*}\n"
      ],
      "text/markdown": [
       "1. 11\n",
       "2. 12\n",
       "3. 14\n",
       "4. 15\n",
       "5. 16\n",
       "6. 17\n",
       "7. 23\n",
       "8. 25\n",
       "9. 26\n",
       "10. 27\n",
       "11. 28\n",
       "12. 34\n",
       "13. 35\n",
       "14. 36\n",
       "15. 38\n",
       "16. 39\n",
       "17. 40\n",
       "18. 41\n",
       "19. 47\n",
       "20. 49\n",
       "21. 51\n",
       "22. 53\n",
       "23. 56\n",
       "24. 57\n",
       "25. 65\n",
       "26. 68\n",
       "27. 75\n",
       "28. 76\n",
       "29. 77\n",
       "30. 79\n",
       "31. 83\n",
       "32. 85\n",
       "33. 89\n",
       "34. 90\n",
       "35. 92\n",
       "36. 93\n",
       "37. 95\n",
       "38. 96\n",
       "39. 97\n",
       "40. 99\n",
       "\n",
       "\n"
      ],
      "text/plain": [
       " [1] 11 12 14 15 16 17 23 25 26 27 28 34 35 36 38 39 40 41 47 49 51 53 56 57 65\n",
       "[26] 68 75 76 77 79 83 85 89 90 92 93 95 96 97 99"
      ]
     },
     "metadata": {},
     "output_type": "display_data"
    }
   ],
   "source": [
    "sort(x,decreasing = F)"
   ]
  },
  {
   "cell_type": "code",
   "execution_count": 30,
   "metadata": {},
   "outputs": [
    {
     "data": {
      "text/html": [
       "<ol class=list-inline>\n",
       "\t<li>20</li>\n",
       "\t<li>24</li>\n",
       "\t<li>22</li>\n",
       "\t<li>21</li>\n",
       "\t<li>26</li>\n",
       "</ol>\n"
      ],
      "text/latex": [
       "\\begin{enumerate*}\n",
       "\\item 20\n",
       "\\item 24\n",
       "\\item 22\n",
       "\\item 21\n",
       "\\item 26\n",
       "\\end{enumerate*}\n"
      ],
      "text/markdown": [
       "1. 20\n",
       "2. 24\n",
       "3. 22\n",
       "4. 21\n",
       "5. 26\n",
       "\n",
       "\n"
      ],
      "text/plain": [
       "[1] 20 24 22 21 26"
      ]
     },
     "metadata": {},
     "output_type": "display_data"
    }
   ],
   "source": [
    "x=sample(20:30,5)\n",
    "x"
   ]
  },
  {
   "cell_type": "code",
   "execution_count": 31,
   "metadata": {},
   "outputs": [
    {
     "data": {
      "text/html": [
       "<ol class=list-inline>\n",
       "\t<li>1</li>\n",
       "\t<li>4</li>\n",
       "\t<li>3</li>\n",
       "\t<li>2</li>\n",
       "\t<li>5</li>\n",
       "</ol>\n"
      ],
      "text/latex": [
       "\\begin{enumerate*}\n",
       "\\item 1\n",
       "\\item 4\n",
       "\\item 3\n",
       "\\item 2\n",
       "\\item 5\n",
       "\\end{enumerate*}\n"
      ],
      "text/markdown": [
       "1. 1\n",
       "2. 4\n",
       "3. 3\n",
       "4. 2\n",
       "5. 5\n",
       "\n",
       "\n"
      ],
      "text/plain": [
       "[1] 1 4 3 2 5"
      ]
     },
     "metadata": {},
     "output_type": "display_data"
    }
   ],
   "source": [
    "order(x)"
   ]
  },
  {
   "cell_type": "code",
   "execution_count": 32,
   "metadata": {},
   "outputs": [
    {
     "data": {
      "text/html": [
       "<ol class=list-inline>\n",
       "\t<li>5</li>\n",
       "\t<li>2</li>\n",
       "\t<li>3</li>\n",
       "\t<li>4</li>\n",
       "\t<li>1</li>\n",
       "</ol>\n"
      ],
      "text/latex": [
       "\\begin{enumerate*}\n",
       "\\item 5\n",
       "\\item 2\n",
       "\\item 3\n",
       "\\item 4\n",
       "\\item 1\n",
       "\\end{enumerate*}\n"
      ],
      "text/markdown": [
       "1. 5\n",
       "2. 2\n",
       "3. 3\n",
       "4. 4\n",
       "5. 1\n",
       "\n",
       "\n"
      ],
      "text/plain": [
       "[1] 5 2 3 4 1"
      ]
     },
     "metadata": {},
     "output_type": "display_data"
    }
   ],
   "source": [
    "order(-x)"
   ]
  },
  {
   "cell_type": "code",
   "execution_count": 33,
   "metadata": {},
   "outputs": [
    {
     "data": {
      "text/html": [
       "<ol class=list-inline>\n",
       "\t<li>26</li>\n",
       "\t<li>24</li>\n",
       "\t<li>22</li>\n",
       "\t<li>21</li>\n",
       "\t<li>20</li>\n",
       "</ol>\n"
      ],
      "text/latex": [
       "\\begin{enumerate*}\n",
       "\\item 26\n",
       "\\item 24\n",
       "\\item 22\n",
       "\\item 21\n",
       "\\item 20\n",
       "\\end{enumerate*}\n"
      ],
      "text/markdown": [
       "1. 26\n",
       "2. 24\n",
       "3. 22\n",
       "4. 21\n",
       "5. 20\n",
       "\n",
       "\n"
      ],
      "text/plain": [
       "[1] 26 24 22 21 20"
      ]
     },
     "metadata": {},
     "output_type": "display_data"
    }
   ],
   "source": [
    "x[order(-x)]"
   ]
  },
  {
   "cell_type": "code",
   "execution_count": 34,
   "metadata": {},
   "outputs": [],
   "source": [
    "data[7,4]=93"
   ]
  },
  {
   "cell_type": "code",
   "execution_count": 35,
   "metadata": {},
   "outputs": [
    {
     "data": {
      "text/html": [
       "<table>\n",
       "<thead><tr><th scope=col>id</th><th scope=col>name</th><th scope=col>class</th><th scope=col>maths</th><th scope=col>sci</th><th scope=col>other</th><th scope=col>percentage</th></tr></thead>\n",
       "<tbody>\n",
       "\t<tr><td>10      </td><td>hd      </td><td>C       </td><td>93      </td><td>93      </td><td>80      </td><td>88.66667</td></tr>\n",
       "\t<tr><td> 7      </td><td>sushma  </td><td>C       </td><td>93      </td><td>51      </td><td>40      </td><td>61.66667</td></tr>\n",
       "\t<tr><td> 3      </td><td>saha    </td><td>A       </td><td>83      </td><td>49      </td><td>69      </td><td>67.00000</td></tr>\n",
       "\t<tr><td> 6      </td><td>narendra</td><td>C       </td><td>75      </td><td>99      </td><td>88      </td><td>87.33333</td></tr>\n",
       "\t<tr><td> 1      </td><td>pappu   </td><td>C       </td><td>72      </td><td>75      </td><td>48      </td><td>65.00000</td></tr>\n",
       "\t<tr><td> 4      </td><td>rahul   </td><td>C       </td><td>69      </td><td>92      </td><td>86      </td><td>82.33333</td></tr>\n",
       "\t<tr><td> 8      </td><td>imran   </td><td>C       </td><td>68      </td><td>42      </td><td>90      </td><td>66.66667</td></tr>\n",
       "\t<tr><td> 9      </td><td>devansh </td><td>C       </td><td>67      </td><td>79      </td><td>82      </td><td>76.00000</td></tr>\n",
       "\t<tr><td> 5      </td><td>amit    </td><td>C       </td><td>66      </td><td>57      </td><td>71      </td><td>64.66667</td></tr>\n",
       "\t<tr><td> 2      </td><td>modi    </td><td>A       </td><td>65      </td><td>73      </td><td>68      </td><td>68.66667</td></tr>\n",
       "</tbody>\n",
       "</table>\n"
      ],
      "text/latex": [
       "\\begin{tabular}{r|lllllll}\n",
       " id & name & class & maths & sci & other & percentage\\\\\n",
       "\\hline\n",
       "\t 10       & hd       & C        & 93       & 93       & 80       & 88.66667\\\\\n",
       "\t  7       & sushma   & C        & 93       & 51       & 40       & 61.66667\\\\\n",
       "\t  3       & saha     & A        & 83       & 49       & 69       & 67.00000\\\\\n",
       "\t  6       & narendra & C        & 75       & 99       & 88       & 87.33333\\\\\n",
       "\t  1       & pappu    & C        & 72       & 75       & 48       & 65.00000\\\\\n",
       "\t  4       & rahul    & C        & 69       & 92       & 86       & 82.33333\\\\\n",
       "\t  8       & imran    & C        & 68       & 42       & 90       & 66.66667\\\\\n",
       "\t  9       & devansh  & C        & 67       & 79       & 82       & 76.00000\\\\\n",
       "\t  5       & amit     & C        & 66       & 57       & 71       & 64.66667\\\\\n",
       "\t  2       & modi     & A        & 65       & 73       & 68       & 68.66667\\\\\n",
       "\\end{tabular}\n"
      ],
      "text/markdown": [
       "\n",
       "| id | name | class | maths | sci | other | percentage |\n",
       "|---|---|---|---|---|---|---|\n",
       "| 10       | hd       | C        | 93       | 93       | 80       | 88.66667 |\n",
       "|  7       | sushma   | C        | 93       | 51       | 40       | 61.66667 |\n",
       "|  3       | saha     | A        | 83       | 49       | 69       | 67.00000 |\n",
       "|  6       | narendra | C        | 75       | 99       | 88       | 87.33333 |\n",
       "|  1       | pappu    | C        | 72       | 75       | 48       | 65.00000 |\n",
       "|  4       | rahul    | C        | 69       | 92       | 86       | 82.33333 |\n",
       "|  8       | imran    | C        | 68       | 42       | 90       | 66.66667 |\n",
       "|  9       | devansh  | C        | 67       | 79       | 82       | 76.00000 |\n",
       "|  5       | amit     | C        | 66       | 57       | 71       | 64.66667 |\n",
       "|  2       | modi     | A        | 65       | 73       | 68       | 68.66667 |\n",
       "\n"
      ],
      "text/plain": [
       "   id name     class maths sci other percentage\n",
       "1  10 hd       C     93    93  80    88.66667  \n",
       "2   7 sushma   C     93    51  40    61.66667  \n",
       "3   3 saha     A     83    49  69    67.00000  \n",
       "4   6 narendra C     75    99  88    87.33333  \n",
       "5   1 pappu    C     72    75  48    65.00000  \n",
       "6   4 rahul    C     69    92  86    82.33333  \n",
       "7   8 imran    C     68    42  90    66.66667  \n",
       "8   9 devansh  C     67    79  82    76.00000  \n",
       "9   5 amit     C     66    57  71    64.66667  \n",
       "10  2 modi     A     65    73  68    68.66667  "
      ]
     },
     "metadata": {},
     "output_type": "display_data"
    }
   ],
   "source": [
    "arrange(data,-maths,-sci)"
   ]
  },
  {
   "cell_type": "markdown",
   "metadata": {},
   "source": [
    "##### redirection sign (%>%)"
   ]
  },
  {
   "cell_type": "code",
   "execution_count": 36,
   "metadata": {},
   "outputs": [
    {
     "data": {
      "text/html": [
       "<table>\n",
       "<thead><tr><th scope=col>id</th><th scope=col>name</th><th scope=col>class</th><th scope=col>maths</th><th scope=col>sci</th><th scope=col>other</th><th scope=col>percentage</th></tr></thead>\n",
       "<tbody>\n",
       "\t<tr><td>1       </td><td>pappu   </td><td>C       </td><td>72      </td><td>75      </td><td>48      </td><td>65.00000</td></tr>\n",
       "\t<tr><td>2       </td><td>modi    </td><td>A       </td><td>65      </td><td>73      </td><td>68      </td><td>68.66667</td></tr>\n",
       "\t<tr><td>3       </td><td>saha    </td><td>A       </td><td>83      </td><td>49      </td><td>69      </td><td>67.00000</td></tr>\n",
       "\t<tr><td>4       </td><td>rahul   </td><td>C       </td><td>69      </td><td>92      </td><td>86      </td><td>82.33333</td></tr>\n",
       "\t<tr><td>5       </td><td>amit    </td><td>C       </td><td>66      </td><td>57      </td><td>71      </td><td>64.66667</td></tr>\n",
       "\t<tr><td>6       </td><td>narendra</td><td>C       </td><td>75      </td><td>99      </td><td>88      </td><td>87.33333</td></tr>\n",
       "</tbody>\n",
       "</table>\n"
      ],
      "text/latex": [
       "\\begin{tabular}{r|lllllll}\n",
       " id & name & class & maths & sci & other & percentage\\\\\n",
       "\\hline\n",
       "\t 1        & pappu    & C        & 72       & 75       & 48       & 65.00000\\\\\n",
       "\t 2        & modi     & A        & 65       & 73       & 68       & 68.66667\\\\\n",
       "\t 3        & saha     & A        & 83       & 49       & 69       & 67.00000\\\\\n",
       "\t 4        & rahul    & C        & 69       & 92       & 86       & 82.33333\\\\\n",
       "\t 5        & amit     & C        & 66       & 57       & 71       & 64.66667\\\\\n",
       "\t 6        & narendra & C        & 75       & 99       & 88       & 87.33333\\\\\n",
       "\\end{tabular}\n"
      ],
      "text/markdown": [
       "\n",
       "| id | name | class | maths | sci | other | percentage |\n",
       "|---|---|---|---|---|---|---|\n",
       "| 1        | pappu    | C        | 72       | 75       | 48       | 65.00000 |\n",
       "| 2        | modi     | A        | 65       | 73       | 68       | 68.66667 |\n",
       "| 3        | saha     | A        | 83       | 49       | 69       | 67.00000 |\n",
       "| 4        | rahul    | C        | 69       | 92       | 86       | 82.33333 |\n",
       "| 5        | amit     | C        | 66       | 57       | 71       | 64.66667 |\n",
       "| 6        | narendra | C        | 75       | 99       | 88       | 87.33333 |\n",
       "\n"
      ],
      "text/plain": [
       "  id name     class maths sci other percentage\n",
       "1 1  pappu    C     72    75  48    65.00000  \n",
       "2 2  modi     A     65    73  68    68.66667  \n",
       "3 3  saha     A     83    49  69    67.00000  \n",
       "4 4  rahul    C     69    92  86    82.33333  \n",
       "5 5  amit     C     66    57  71    64.66667  \n",
       "6 6  narendra C     75    99  88    87.33333  "
      ]
     },
     "metadata": {},
     "output_type": "display_data"
    }
   ],
   "source": [
    "data %>% head()\n"
   ]
  },
  {
   "cell_type": "code",
   "execution_count": 37,
   "metadata": {},
   "outputs": [
    {
     "data": {
      "text/html": [
       "<table>\n",
       "<thead><tr><th scope=col>name</th><th scope=col>maths</th><th scope=col>sci</th></tr></thead>\n",
       "<tbody>\n",
       "\t<tr><td>pappu   </td><td>72      </td><td>75      </td></tr>\n",
       "\t<tr><td>narendra</td><td>75      </td><td>99      </td></tr>\n",
       "\t<tr><td>hd      </td><td>93      </td><td>93      </td></tr>\n",
       "</tbody>\n",
       "</table>\n"
      ],
      "text/latex": [
       "\\begin{tabular}{r|lll}\n",
       " name & maths & sci\\\\\n",
       "\\hline\n",
       "\t pappu    & 72       & 75      \\\\\n",
       "\t narendra & 75       & 99      \\\\\n",
       "\t hd       & 93       & 93      \\\\\n",
       "\\end{tabular}\n"
      ],
      "text/markdown": [
       "\n",
       "| name | maths | sci |\n",
       "|---|---|---|\n",
       "| pappu    | 72       | 75       |\n",
       "| narendra | 75       | 99       |\n",
       "| hd       | 93       | 93       |\n",
       "\n"
      ],
      "text/plain": [
       "  name     maths sci\n",
       "1 pappu    72    75 \n",
       "2 narendra 75    99 \n",
       "3 hd       93    93 "
      ]
     },
     "metadata": {},
     "output_type": "display_data"
    }
   ],
   "source": [
    "data %>% select(name,maths,sci) %>% filter(maths>70,sci>60)"
   ]
  },
  {
   "cell_type": "code",
   "execution_count": 38,
   "metadata": {},
   "outputs": [
    {
     "data": {
      "text/html": [
       "<table>\n",
       "<thead><tr><th scope=col>id</th><th scope=col>game</th><th scope=col>score</th></tr></thead>\n",
       "<tbody>\n",
       "\t<tr><td>14      </td><td>football</td><td>99      </td></tr>\n",
       "\t<tr><td> 2      </td><td>football</td><td>60      </td></tr>\n",
       "\t<tr><td> 5      </td><td>cricket </td><td>61      </td></tr>\n",
       "\t<tr><td>15      </td><td>kabadi  </td><td>46      </td></tr>\n",
       "\t<tr><td> 8      </td><td>cricket </td><td>97      </td></tr>\n",
       "\t<tr><td> 7      </td><td>football</td><td>69      </td></tr>\n",
       "</tbody>\n",
       "</table>\n"
      ],
      "text/latex": [
       "\\begin{tabular}{r|lll}\n",
       " id & game & score\\\\\n",
       "\\hline\n",
       "\t 14       & football & 99      \\\\\n",
       "\t  2       & football & 60      \\\\\n",
       "\t  5       & cricket  & 61      \\\\\n",
       "\t 15       & kabadi   & 46      \\\\\n",
       "\t  8       & cricket  & 97      \\\\\n",
       "\t  7       & football & 69      \\\\\n",
       "\\end{tabular}\n"
      ],
      "text/markdown": [
       "\n",
       "| id | game | score |\n",
       "|---|---|---|\n",
       "| 14       | football | 99       |\n",
       "|  2       | football | 60       |\n",
       "|  5       | cricket  | 61       |\n",
       "| 15       | kabadi   | 46       |\n",
       "|  8       | cricket  | 97       |\n",
       "|  7       | football | 69       |\n",
       "\n"
      ],
      "text/plain": [
       "  id game     score\n",
       "1 14 football 99   \n",
       "2  2 football 60   \n",
       "3  5 cricket  61   \n",
       "4 15 kabadi   46   \n",
       "5  8 cricket  97   \n",
       "6  7 football 69   "
      ]
     },
     "metadata": {},
     "output_type": "display_data"
    }
   ],
   "source": [
    "head(game)"
   ]
  },
  {
   "cell_type": "code",
   "execution_count": 40,
   "metadata": {},
   "outputs": [
    {
     "data": {
      "text/html": [
       "<table>\n",
       "<thead><tr><th scope=col>game</th><th scope=col>median</th><th scope=col>mean</th><th scope=col>n</th></tr></thead>\n",
       "<tbody>\n",
       "\t<tr><td>cricket </td><td>59.0    </td><td>65.00   </td><td>4       </td></tr>\n",
       "\t<tr><td>football</td><td>64.5    </td><td>70.75   </td><td>4       </td></tr>\n",
       "\t<tr><td>kabadi  </td><td>65.0    </td><td>65.00   </td><td>2       </td></tr>\n",
       "</tbody>\n",
       "</table>\n"
      ],
      "text/latex": [
       "\\begin{tabular}{r|llll}\n",
       " game & median & mean & n\\\\\n",
       "\\hline\n",
       "\t cricket  & 59.0     & 65.00    & 4       \\\\\n",
       "\t football & 64.5     & 70.75    & 4       \\\\\n",
       "\t kabadi   & 65.0     & 65.00    & 2       \\\\\n",
       "\\end{tabular}\n"
      ],
      "text/markdown": [
       "\n",
       "| game | median | mean | n |\n",
       "|---|---|---|---|\n",
       "| cricket  | 59.0     | 65.00    | 4        |\n",
       "| football | 64.5     | 70.75    | 4        |\n",
       "| kabadi   | 65.0     | 65.00    | 2        |\n",
       "\n"
      ],
      "text/plain": [
       "  game     median mean  n\n",
       "1 cricket  59.0   65.00 4\n",
       "2 football 64.5   70.75 4\n",
       "3 kabadi   65.0   65.00 2"
      ]
     },
     "metadata": {},
     "output_type": "display_data"
    }
   ],
   "source": [
    "game %>% group_by(game) %>% summarise (median=median(score),mean=mean(score),n=n())"
   ]
  },
  {
   "cell_type": "code",
   "execution_count": 41,
   "metadata": {},
   "outputs": [
    {
     "data": {
      "text/html": [
       "<table>\n",
       "<thead><tr><th scope=col>manufacturer</th><th scope=col>model</th><th scope=col>displ</th><th scope=col>year</th><th scope=col>cyl</th><th scope=col>trans</th><th scope=col>drv</th><th scope=col>cty</th><th scope=col>hwy</th><th scope=col>fl</th><th scope=col>class</th></tr></thead>\n",
       "<tbody>\n",
       "\t<tr><td>audi      </td><td>a4        </td><td>1.8       </td><td>1999      </td><td>4         </td><td>auto(l5)  </td><td>f         </td><td>18        </td><td>29        </td><td>p         </td><td>compact   </td></tr>\n",
       "\t<tr><td>audi      </td><td>a4        </td><td>1.8       </td><td>1999      </td><td>4         </td><td>manual(m5)</td><td>f         </td><td>21        </td><td>29        </td><td>p         </td><td>compact   </td></tr>\n",
       "\t<tr><td>audi      </td><td>a4        </td><td>2.0       </td><td>2008      </td><td>4         </td><td>manual(m6)</td><td>f         </td><td>20        </td><td>31        </td><td>p         </td><td>compact   </td></tr>\n",
       "\t<tr><td>audi      </td><td>a4        </td><td>2.0       </td><td>2008      </td><td>4         </td><td>auto(av)  </td><td>f         </td><td>21        </td><td>30        </td><td>p         </td><td>compact   </td></tr>\n",
       "\t<tr><td>audi      </td><td>a4        </td><td>2.8       </td><td>1999      </td><td>6         </td><td>auto(l5)  </td><td>f         </td><td>16        </td><td>26        </td><td>p         </td><td>compact   </td></tr>\n",
       "\t<tr><td>audi      </td><td>a4        </td><td>2.8       </td><td>1999      </td><td>6         </td><td>manual(m5)</td><td>f         </td><td>18        </td><td>26        </td><td>p         </td><td>compact   </td></tr>\n",
       "</tbody>\n",
       "</table>\n"
      ],
      "text/latex": [
       "\\begin{tabular}{r|lllllllllll}\n",
       " manufacturer & model & displ & year & cyl & trans & drv & cty & hwy & fl & class\\\\\n",
       "\\hline\n",
       "\t audi       & a4         & 1.8        & 1999       & 4          & auto(l5)   & f          & 18         & 29         & p          & compact   \\\\\n",
       "\t audi       & a4         & 1.8        & 1999       & 4          & manual(m5) & f          & 21         & 29         & p          & compact   \\\\\n",
       "\t audi       & a4         & 2.0        & 2008       & 4          & manual(m6) & f          & 20         & 31         & p          & compact   \\\\\n",
       "\t audi       & a4         & 2.0        & 2008       & 4          & auto(av)   & f          & 21         & 30         & p          & compact   \\\\\n",
       "\t audi       & a4         & 2.8        & 1999       & 6          & auto(l5)   & f          & 16         & 26         & p          & compact   \\\\\n",
       "\t audi       & a4         & 2.8        & 1999       & 6          & manual(m5) & f          & 18         & 26         & p          & compact   \\\\\n",
       "\\end{tabular}\n"
      ],
      "text/markdown": [
       "\n",
       "| manufacturer | model | displ | year | cyl | trans | drv | cty | hwy | fl | class |\n",
       "|---|---|---|---|---|---|---|---|---|---|---|\n",
       "| audi       | a4         | 1.8        | 1999       | 4          | auto(l5)   | f          | 18         | 29         | p          | compact    |\n",
       "| audi       | a4         | 1.8        | 1999       | 4          | manual(m5) | f          | 21         | 29         | p          | compact    |\n",
       "| audi       | a4         | 2.0        | 2008       | 4          | manual(m6) | f          | 20         | 31         | p          | compact    |\n",
       "| audi       | a4         | 2.0        | 2008       | 4          | auto(av)   | f          | 21         | 30         | p          | compact    |\n",
       "| audi       | a4         | 2.8        | 1999       | 6          | auto(l5)   | f          | 16         | 26         | p          | compact    |\n",
       "| audi       | a4         | 2.8        | 1999       | 6          | manual(m5) | f          | 18         | 26         | p          | compact    |\n",
       "\n"
      ],
      "text/plain": [
       "  manufacturer model displ year cyl trans      drv cty hwy fl class  \n",
       "1 audi         a4    1.8   1999 4   auto(l5)   f   18  29  p  compact\n",
       "2 audi         a4    1.8   1999 4   manual(m5) f   21  29  p  compact\n",
       "3 audi         a4    2.0   2008 4   manual(m6) f   20  31  p  compact\n",
       "4 audi         a4    2.0   2008 4   auto(av)   f   21  30  p  compact\n",
       "5 audi         a4    2.8   1999 6   auto(l5)   f   16  26  p  compact\n",
       "6 audi         a4    2.8   1999 6   manual(m5) f   18  26  p  compact"
      ]
     },
     "metadata": {},
     "output_type": "display_data"
    }
   ],
   "source": [
    "head(mpg)"
   ]
  },
  {
   "cell_type": "code",
   "execution_count": 49,
   "metadata": {},
   "outputs": [],
   "source": [
    "p=mpg %>% select (manufacturer,cty,hwy)%>% group_by(manufacturer) %>% summarise (meancty=mean(cty),meanhwy=mean(hwy),n=n()) %>% arrange(-meancty,-meanhwy)"
   ]
  },
  {
   "cell_type": "code",
   "execution_count": 50,
   "metadata": {},
   "outputs": [
    {
     "data": {
      "text/html": [
       "<table>\n",
       "<thead><tr><th scope=col>manufacturer</th><th scope=col>meancty</th><th scope=col>meanhwy</th><th scope=col>n</th></tr></thead>\n",
       "<tbody>\n",
       "\t<tr><td>honda     </td><td>24.44444  </td><td>32.55556  </td><td> 9        </td></tr>\n",
       "\t<tr><td>volkswagen</td><td>20.92593  </td><td>29.22222  </td><td>27        </td></tr>\n",
       "\t<tr><td>subaru    </td><td>19.28571  </td><td>25.57143  </td><td>14        </td></tr>\n",
       "\t<tr><td>hyundai   </td><td>18.64286  </td><td>26.85714  </td><td>14        </td></tr>\n",
       "\t<tr><td>toyota    </td><td>18.52941  </td><td>24.91176  </td><td>34        </td></tr>\n",
       "\t<tr><td>nissan    </td><td>18.07692  </td><td>24.61538  </td><td>13        </td></tr>\n",
       "</tbody>\n",
       "</table>\n"
      ],
      "text/latex": [
       "\\begin{tabular}{r|llll}\n",
       " manufacturer & meancty & meanhwy & n\\\\\n",
       "\\hline\n",
       "\t honda      & 24.44444   & 32.55556   &  9        \\\\\n",
       "\t volkswagen & 20.92593   & 29.22222   & 27        \\\\\n",
       "\t subaru     & 19.28571   & 25.57143   & 14        \\\\\n",
       "\t hyundai    & 18.64286   & 26.85714   & 14        \\\\\n",
       "\t toyota     & 18.52941   & 24.91176   & 34        \\\\\n",
       "\t nissan     & 18.07692   & 24.61538   & 13        \\\\\n",
       "\\end{tabular}\n"
      ],
      "text/markdown": [
       "\n",
       "| manufacturer | meancty | meanhwy | n |\n",
       "|---|---|---|---|\n",
       "| honda      | 24.44444   | 32.55556   |  9         |\n",
       "| volkswagen | 20.92593   | 29.22222   | 27         |\n",
       "| subaru     | 19.28571   | 25.57143   | 14         |\n",
       "| hyundai    | 18.64286   | 26.85714   | 14         |\n",
       "| toyota     | 18.52941   | 24.91176   | 34         |\n",
       "| nissan     | 18.07692   | 24.61538   | 13         |\n",
       "\n"
      ],
      "text/plain": [
       "  manufacturer meancty  meanhwy  n \n",
       "1 honda        24.44444 32.55556  9\n",
       "2 volkswagen   20.92593 29.22222 27\n",
       "3 subaru       19.28571 25.57143 14\n",
       "4 hyundai      18.64286 26.85714 14\n",
       "5 toyota       18.52941 24.91176 34\n",
       "6 nissan       18.07692 24.61538 13"
      ]
     },
     "metadata": {},
     "output_type": "display_data"
    }
   ],
   "source": [
    "head(p)"
   ]
  },
  {
   "cell_type": "code",
   "execution_count": 51,
   "metadata": {},
   "outputs": [
    {
     "data": {
      "text/html": [
       "<table>\n",
       "<thead><tr><th scope=col>id</th><th scope=col>game</th><th scope=col>score</th></tr></thead>\n",
       "<tbody>\n",
       "\t<tr><td>14      </td><td>football</td><td>99      </td></tr>\n",
       "\t<tr><td> 2      </td><td>football</td><td>60      </td></tr>\n",
       "\t<tr><td> 5      </td><td>cricket </td><td>61      </td></tr>\n",
       "</tbody>\n",
       "</table>\n"
      ],
      "text/latex": [
       "\\begin{tabular}{r|lll}\n",
       " id & game & score\\\\\n",
       "\\hline\n",
       "\t 14       & football & 99      \\\\\n",
       "\t  2       & football & 60      \\\\\n",
       "\t  5       & cricket  & 61      \\\\\n",
       "\\end{tabular}\n"
      ],
      "text/markdown": [
       "\n",
       "| id | game | score |\n",
       "|---|---|---|\n",
       "| 14       | football | 99       |\n",
       "|  2       | football | 60       |\n",
       "|  5       | cricket  | 61       |\n",
       "\n"
      ],
      "text/plain": [
       "  id game     score\n",
       "1 14 football 99   \n",
       "2  2 football 60   \n",
       "3  5 cricket  61   "
      ]
     },
     "metadata": {},
     "output_type": "display_data"
    }
   ],
   "source": [
    "head(game,3)"
   ]
  },
  {
   "cell_type": "code",
   "execution_count": 52,
   "metadata": {},
   "outputs": [
    {
     "data": {
      "text/html": [
       "<table>\n",
       "<thead><tr><th scope=col>id</th><th scope=col>name</th><th scope=col>class</th><th scope=col>maths</th><th scope=col>sci</th><th scope=col>other</th><th scope=col>percentage</th><th scope=col>game</th><th scope=col>score</th></tr></thead>\n",
       "<tbody>\n",
       "\t<tr><td> 2      </td><td>modi    </td><td>A       </td><td>65      </td><td>73      </td><td>68      </td><td>68.66667</td><td>football</td><td>60      </td></tr>\n",
       "\t<tr><td> 5      </td><td>amit    </td><td>C       </td><td>66      </td><td>57      </td><td>71      </td><td>64.66667</td><td>cricket </td><td>61      </td></tr>\n",
       "\t<tr><td> 7      </td><td>sushma  </td><td>C       </td><td>93      </td><td>51      </td><td>40      </td><td>61.66667</td><td>football</td><td>69      </td></tr>\n",
       "\t<tr><td> 8      </td><td>imran   </td><td>C       </td><td>68      </td><td>42      </td><td>90      </td><td>66.66667</td><td>cricket </td><td>97      </td></tr>\n",
       "\t<tr><td> 9      </td><td>devansh </td><td>C       </td><td>67      </td><td>79      </td><td>82      </td><td>76.00000</td><td>kabadi  </td><td>84      </td></tr>\n",
       "\t<tr><td>10      </td><td>hd      </td><td>C       </td><td>93      </td><td>93      </td><td>80      </td><td>88.66667</td><td>cricket </td><td>45      </td></tr>\n",
       "</tbody>\n",
       "</table>\n"
      ],
      "text/latex": [
       "\\begin{tabular}{r|lllllllll}\n",
       " id & name & class & maths & sci & other & percentage & game & score\\\\\n",
       "\\hline\n",
       "\t  2       & modi     & A        & 65       & 73       & 68       & 68.66667 & football & 60      \\\\\n",
       "\t  5       & amit     & C        & 66       & 57       & 71       & 64.66667 & cricket  & 61      \\\\\n",
       "\t  7       & sushma   & C        & 93       & 51       & 40       & 61.66667 & football & 69      \\\\\n",
       "\t  8       & imran    & C        & 68       & 42       & 90       & 66.66667 & cricket  & 97      \\\\\n",
       "\t  9       & devansh  & C        & 67       & 79       & 82       & 76.00000 & kabadi   & 84      \\\\\n",
       "\t 10       & hd       & C        & 93       & 93       & 80       & 88.66667 & cricket  & 45      \\\\\n",
       "\\end{tabular}\n"
      ],
      "text/markdown": [
       "\n",
       "| id | name | class | maths | sci | other | percentage | game | score |\n",
       "|---|---|---|---|---|---|---|---|---|\n",
       "|  2       | modi     | A        | 65       | 73       | 68       | 68.66667 | football | 60       |\n",
       "|  5       | amit     | C        | 66       | 57       | 71       | 64.66667 | cricket  | 61       |\n",
       "|  7       | sushma   | C        | 93       | 51       | 40       | 61.66667 | football | 69       |\n",
       "|  8       | imran    | C        | 68       | 42       | 90       | 66.66667 | cricket  | 97       |\n",
       "|  9       | devansh  | C        | 67       | 79       | 82       | 76.00000 | kabadi   | 84       |\n",
       "| 10       | hd       | C        | 93       | 93       | 80       | 88.66667 | cricket  | 45       |\n",
       "\n"
      ],
      "text/plain": [
       "  id name    class maths sci other percentage game     score\n",
       "1  2 modi    A     65    73  68    68.66667   football 60   \n",
       "2  5 amit    C     66    57  71    64.66667   cricket  61   \n",
       "3  7 sushma  C     93    51  40    61.66667   football 69   \n",
       "4  8 imran   C     68    42  90    66.66667   cricket  97   \n",
       "5  9 devansh C     67    79  82    76.00000   kabadi   84   \n",
       "6 10 hd      C     93    93  80    88.66667   cricket  45   "
      ]
     },
     "metadata": {},
     "output_type": "display_data"
    }
   ],
   "source": [
    "inner_join(data,game,by=\"id\")"
   ]
  },
  {
   "cell_type": "code",
   "execution_count": 53,
   "metadata": {},
   "outputs": [
    {
     "data": {
      "text/html": [
       "<table>\n",
       "<thead><tr><th scope=col>id</th><th scope=col>name</th><th scope=col>class</th><th scope=col>maths</th><th scope=col>sci</th><th scope=col>other</th><th scope=col>percentage</th><th scope=col>game</th><th scope=col>score</th></tr></thead>\n",
       "<tbody>\n",
       "\t<tr><td> 1      </td><td>pappu   </td><td>C       </td><td>72      </td><td>75      </td><td>48      </td><td>65.00000</td><td>NA      </td><td>NA      </td></tr>\n",
       "\t<tr><td> 2      </td><td>modi    </td><td>A       </td><td>65      </td><td>73      </td><td>68      </td><td>68.66667</td><td>football</td><td>60      </td></tr>\n",
       "\t<tr><td> 3      </td><td>saha    </td><td>A       </td><td>83      </td><td>49      </td><td>69      </td><td>67.00000</td><td>NA      </td><td>NA      </td></tr>\n",
       "\t<tr><td> 4      </td><td>rahul   </td><td>C       </td><td>69      </td><td>92      </td><td>86      </td><td>82.33333</td><td>NA      </td><td>NA      </td></tr>\n",
       "\t<tr><td> 5      </td><td>amit    </td><td>C       </td><td>66      </td><td>57      </td><td>71      </td><td>64.66667</td><td>cricket </td><td>61      </td></tr>\n",
       "\t<tr><td> 6      </td><td>narendra</td><td>C       </td><td>75      </td><td>99      </td><td>88      </td><td>87.33333</td><td>NA      </td><td>NA      </td></tr>\n",
       "\t<tr><td> 7      </td><td>sushma  </td><td>C       </td><td>93      </td><td>51      </td><td>40      </td><td>61.66667</td><td>football</td><td>69      </td></tr>\n",
       "\t<tr><td> 8      </td><td>imran   </td><td>C       </td><td>68      </td><td>42      </td><td>90      </td><td>66.66667</td><td>cricket </td><td>97      </td></tr>\n",
       "\t<tr><td> 9      </td><td>devansh </td><td>C       </td><td>67      </td><td>79      </td><td>82      </td><td>76.00000</td><td>kabadi  </td><td>84      </td></tr>\n",
       "\t<tr><td>10      </td><td>hd      </td><td>C       </td><td>93      </td><td>93      </td><td>80      </td><td>88.66667</td><td>cricket </td><td>45      </td></tr>\n",
       "</tbody>\n",
       "</table>\n"
      ],
      "text/latex": [
       "\\begin{tabular}{r|lllllllll}\n",
       " id & name & class & maths & sci & other & percentage & game & score\\\\\n",
       "\\hline\n",
       "\t  1       & pappu    & C        & 72       & 75       & 48       & 65.00000 & NA       & NA      \\\\\n",
       "\t  2       & modi     & A        & 65       & 73       & 68       & 68.66667 & football & 60      \\\\\n",
       "\t  3       & saha     & A        & 83       & 49       & 69       & 67.00000 & NA       & NA      \\\\\n",
       "\t  4       & rahul    & C        & 69       & 92       & 86       & 82.33333 & NA       & NA      \\\\\n",
       "\t  5       & amit     & C        & 66       & 57       & 71       & 64.66667 & cricket  & 61      \\\\\n",
       "\t  6       & narendra & C        & 75       & 99       & 88       & 87.33333 & NA       & NA      \\\\\n",
       "\t  7       & sushma   & C        & 93       & 51       & 40       & 61.66667 & football & 69      \\\\\n",
       "\t  8       & imran    & C        & 68       & 42       & 90       & 66.66667 & cricket  & 97      \\\\\n",
       "\t  9       & devansh  & C        & 67       & 79       & 82       & 76.00000 & kabadi   & 84      \\\\\n",
       "\t 10       & hd       & C        & 93       & 93       & 80       & 88.66667 & cricket  & 45      \\\\\n",
       "\\end{tabular}\n"
      ],
      "text/markdown": [
       "\n",
       "| id | name | class | maths | sci | other | percentage | game | score |\n",
       "|---|---|---|---|---|---|---|---|---|\n",
       "|  1       | pappu    | C        | 72       | 75       | 48       | 65.00000 | NA       | NA       |\n",
       "|  2       | modi     | A        | 65       | 73       | 68       | 68.66667 | football | 60       |\n",
       "|  3       | saha     | A        | 83       | 49       | 69       | 67.00000 | NA       | NA       |\n",
       "|  4       | rahul    | C        | 69       | 92       | 86       | 82.33333 | NA       | NA       |\n",
       "|  5       | amit     | C        | 66       | 57       | 71       | 64.66667 | cricket  | 61       |\n",
       "|  6       | narendra | C        | 75       | 99       | 88       | 87.33333 | NA       | NA       |\n",
       "|  7       | sushma   | C        | 93       | 51       | 40       | 61.66667 | football | 69       |\n",
       "|  8       | imran    | C        | 68       | 42       | 90       | 66.66667 | cricket  | 97       |\n",
       "|  9       | devansh  | C        | 67       | 79       | 82       | 76.00000 | kabadi   | 84       |\n",
       "| 10       | hd       | C        | 93       | 93       | 80       | 88.66667 | cricket  | 45       |\n",
       "\n"
      ],
      "text/plain": [
       "   id name     class maths sci other percentage game     score\n",
       "1   1 pappu    C     72    75  48    65.00000   NA       NA   \n",
       "2   2 modi     A     65    73  68    68.66667   football 60   \n",
       "3   3 saha     A     83    49  69    67.00000   NA       NA   \n",
       "4   4 rahul    C     69    92  86    82.33333   NA       NA   \n",
       "5   5 amit     C     66    57  71    64.66667   cricket  61   \n",
       "6   6 narendra C     75    99  88    87.33333   NA       NA   \n",
       "7   7 sushma   C     93    51  40    61.66667   football 69   \n",
       "8   8 imran    C     68    42  90    66.66667   cricket  97   \n",
       "9   9 devansh  C     67    79  82    76.00000   kabadi   84   \n",
       "10 10 hd       C     93    93  80    88.66667   cricket  45   "
      ]
     },
     "metadata": {},
     "output_type": "display_data"
    }
   ],
   "source": [
    "left_join(data,game,by=\"id\")"
   ]
  },
  {
   "cell_type": "code",
   "execution_count": 54,
   "metadata": {},
   "outputs": [
    {
     "data": {
      "text/html": [
       "<table>\n",
       "<thead><tr><th scope=col>id</th><th scope=col>name</th><th scope=col>class</th><th scope=col>maths</th><th scope=col>sci</th><th scope=col>other</th><th scope=col>percentage</th><th scope=col>game</th><th scope=col>score</th></tr></thead>\n",
       "<tbody>\n",
       "\t<tr><td>14      </td><td>NA      </td><td>NA      </td><td>NA      </td><td>NA      </td><td>NA      </td><td>      NA</td><td>football</td><td>99      </td></tr>\n",
       "\t<tr><td> 2      </td><td>modi    </td><td>A       </td><td>65      </td><td>73      </td><td>68      </td><td>68.66667</td><td>football</td><td>60      </td></tr>\n",
       "\t<tr><td> 5      </td><td>amit    </td><td>C       </td><td>66      </td><td>57      </td><td>71      </td><td>64.66667</td><td>cricket </td><td>61      </td></tr>\n",
       "\t<tr><td>15      </td><td>NA      </td><td>NA      </td><td>NA      </td><td>NA      </td><td>NA      </td><td>      NA</td><td>kabadi  </td><td>46      </td></tr>\n",
       "\t<tr><td> 8      </td><td>imran   </td><td>C       </td><td>68      </td><td>42      </td><td>90      </td><td>66.66667</td><td>cricket </td><td>97      </td></tr>\n",
       "\t<tr><td> 7      </td><td>sushma  </td><td>C       </td><td>93      </td><td>51      </td><td>40      </td><td>61.66667</td><td>football</td><td>69      </td></tr>\n",
       "\t<tr><td>17      </td><td>NA      </td><td>NA      </td><td>NA      </td><td>NA      </td><td>NA      </td><td>      NA</td><td>football</td><td>55      </td></tr>\n",
       "\t<tr><td> 9      </td><td>devansh </td><td>C       </td><td>67      </td><td>79      </td><td>82      </td><td>76.00000</td><td>kabadi  </td><td>84      </td></tr>\n",
       "\t<tr><td>10      </td><td>hd      </td><td>C       </td><td>93      </td><td>93      </td><td>80      </td><td>88.66667</td><td>cricket </td><td>45      </td></tr>\n",
       "\t<tr><td>13      </td><td>NA      </td><td>NA      </td><td>NA      </td><td>NA      </td><td>NA      </td><td>      NA</td><td>cricket </td><td>57      </td></tr>\n",
       "</tbody>\n",
       "</table>\n"
      ],
      "text/latex": [
       "\\begin{tabular}{r|lllllllll}\n",
       " id & name & class & maths & sci & other & percentage & game & score\\\\\n",
       "\\hline\n",
       "\t 14       & NA       & NA       & NA       & NA       & NA       &       NA & football & 99      \\\\\n",
       "\t  2       & modi     & A        & 65       & 73       & 68       & 68.66667 & football & 60      \\\\\n",
       "\t  5       & amit     & C        & 66       & 57       & 71       & 64.66667 & cricket  & 61      \\\\\n",
       "\t 15       & NA       & NA       & NA       & NA       & NA       &       NA & kabadi   & 46      \\\\\n",
       "\t  8       & imran    & C        & 68       & 42       & 90       & 66.66667 & cricket  & 97      \\\\\n",
       "\t  7       & sushma   & C        & 93       & 51       & 40       & 61.66667 & football & 69      \\\\\n",
       "\t 17       & NA       & NA       & NA       & NA       & NA       &       NA & football & 55      \\\\\n",
       "\t  9       & devansh  & C        & 67       & 79       & 82       & 76.00000 & kabadi   & 84      \\\\\n",
       "\t 10       & hd       & C        & 93       & 93       & 80       & 88.66667 & cricket  & 45      \\\\\n",
       "\t 13       & NA       & NA       & NA       & NA       & NA       &       NA & cricket  & 57      \\\\\n",
       "\\end{tabular}\n"
      ],
      "text/markdown": [
       "\n",
       "| id | name | class | maths | sci | other | percentage | game | score |\n",
       "|---|---|---|---|---|---|---|---|---|\n",
       "| 14       | NA       | NA       | NA       | NA       | NA       |       NA | football | 99       |\n",
       "|  2       | modi     | A        | 65       | 73       | 68       | 68.66667 | football | 60       |\n",
       "|  5       | amit     | C        | 66       | 57       | 71       | 64.66667 | cricket  | 61       |\n",
       "| 15       | NA       | NA       | NA       | NA       | NA       |       NA | kabadi   | 46       |\n",
       "|  8       | imran    | C        | 68       | 42       | 90       | 66.66667 | cricket  | 97       |\n",
       "|  7       | sushma   | C        | 93       | 51       | 40       | 61.66667 | football | 69       |\n",
       "| 17       | NA       | NA       | NA       | NA       | NA       |       NA | football | 55       |\n",
       "|  9       | devansh  | C        | 67       | 79       | 82       | 76.00000 | kabadi   | 84       |\n",
       "| 10       | hd       | C        | 93       | 93       | 80       | 88.66667 | cricket  | 45       |\n",
       "| 13       | NA       | NA       | NA       | NA       | NA       |       NA | cricket  | 57       |\n",
       "\n"
      ],
      "text/plain": [
       "   id name    class maths sci other percentage game     score\n",
       "1  14 NA      NA    NA    NA  NA          NA   football 99   \n",
       "2   2 modi    A     65    73  68    68.66667   football 60   \n",
       "3   5 amit    C     66    57  71    64.66667   cricket  61   \n",
       "4  15 NA      NA    NA    NA  NA          NA   kabadi   46   \n",
       "5   8 imran   C     68    42  90    66.66667   cricket  97   \n",
       "6   7 sushma  C     93    51  40    61.66667   football 69   \n",
       "7  17 NA      NA    NA    NA  NA          NA   football 55   \n",
       "8   9 devansh C     67    79  82    76.00000   kabadi   84   \n",
       "9  10 hd      C     93    93  80    88.66667   cricket  45   \n",
       "10 13 NA      NA    NA    NA  NA          NA   cricket  57   "
      ]
     },
     "metadata": {},
     "output_type": "display_data"
    }
   ],
   "source": [
    "right_join(data,game,by=\"id\")"
   ]
  },
  {
   "cell_type": "code",
   "execution_count": 57,
   "metadata": {},
   "outputs": [
    {
     "data": {
      "text/html": [
       "<table>\n",
       "<thead><tr><th scope=col>id</th><th scope=col>name</th><th scope=col>class</th><th scope=col>maths</th><th scope=col>sci</th><th scope=col>other</th><th scope=col>percentage</th><th scope=col>game</th><th scope=col>score</th></tr></thead>\n",
       "<tbody>\n",
       "\t<tr><td> 1      </td><td>pappu   </td><td>C       </td><td>72      </td><td>75      </td><td>48      </td><td>65.00000</td><td>NA      </td><td>NA      </td></tr>\n",
       "\t<tr><td> 2      </td><td>modi    </td><td>A       </td><td>65      </td><td>73      </td><td>68      </td><td>68.66667</td><td>football</td><td>60      </td></tr>\n",
       "\t<tr><td> 3      </td><td>saha    </td><td>A       </td><td>83      </td><td>49      </td><td>69      </td><td>67.00000</td><td>NA      </td><td>NA      </td></tr>\n",
       "\t<tr><td> 4      </td><td>rahul   </td><td>C       </td><td>69      </td><td>92      </td><td>86      </td><td>82.33333</td><td>NA      </td><td>NA      </td></tr>\n",
       "\t<tr><td> 5      </td><td>amit    </td><td>C       </td><td>66      </td><td>57      </td><td>71      </td><td>64.66667</td><td>cricket </td><td>61      </td></tr>\n",
       "\t<tr><td> 6      </td><td>narendra</td><td>C       </td><td>75      </td><td>99      </td><td>88      </td><td>87.33333</td><td>NA      </td><td>NA      </td></tr>\n",
       "\t<tr><td> 7      </td><td>sushma  </td><td>C       </td><td>93      </td><td>51      </td><td>40      </td><td>61.66667</td><td>football</td><td>69      </td></tr>\n",
       "\t<tr><td> 8      </td><td>imran   </td><td>C       </td><td>68      </td><td>42      </td><td>90      </td><td>66.66667</td><td>cricket </td><td>97      </td></tr>\n",
       "\t<tr><td> 9      </td><td>devansh </td><td>C       </td><td>67      </td><td>79      </td><td>82      </td><td>76.00000</td><td>kabadi  </td><td>84      </td></tr>\n",
       "\t<tr><td>10      </td><td>hd      </td><td>C       </td><td>93      </td><td>93      </td><td>80      </td><td>88.66667</td><td>cricket </td><td>45      </td></tr>\n",
       "\t<tr><td>14      </td><td>NA      </td><td>NA      </td><td>NA      </td><td>NA      </td><td>NA      </td><td>      NA</td><td>football</td><td>99      </td></tr>\n",
       "\t<tr><td>15      </td><td>NA      </td><td>NA      </td><td>NA      </td><td>NA      </td><td>NA      </td><td>      NA</td><td>kabadi  </td><td>46      </td></tr>\n",
       "\t<tr><td>17      </td><td>NA      </td><td>NA      </td><td>NA      </td><td>NA      </td><td>NA      </td><td>      NA</td><td>football</td><td>55      </td></tr>\n",
       "\t<tr><td>13      </td><td>NA      </td><td>NA      </td><td>NA      </td><td>NA      </td><td>NA      </td><td>      NA</td><td>cricket </td><td>57      </td></tr>\n",
       "</tbody>\n",
       "</table>\n"
      ],
      "text/latex": [
       "\\begin{tabular}{r|lllllllll}\n",
       " id & name & class & maths & sci & other & percentage & game & score\\\\\n",
       "\\hline\n",
       "\t  1       & pappu    & C        & 72       & 75       & 48       & 65.00000 & NA       & NA      \\\\\n",
       "\t  2       & modi     & A        & 65       & 73       & 68       & 68.66667 & football & 60      \\\\\n",
       "\t  3       & saha     & A        & 83       & 49       & 69       & 67.00000 & NA       & NA      \\\\\n",
       "\t  4       & rahul    & C        & 69       & 92       & 86       & 82.33333 & NA       & NA      \\\\\n",
       "\t  5       & amit     & C        & 66       & 57       & 71       & 64.66667 & cricket  & 61      \\\\\n",
       "\t  6       & narendra & C        & 75       & 99       & 88       & 87.33333 & NA       & NA      \\\\\n",
       "\t  7       & sushma   & C        & 93       & 51       & 40       & 61.66667 & football & 69      \\\\\n",
       "\t  8       & imran    & C        & 68       & 42       & 90       & 66.66667 & cricket  & 97      \\\\\n",
       "\t  9       & devansh  & C        & 67       & 79       & 82       & 76.00000 & kabadi   & 84      \\\\\n",
       "\t 10       & hd       & C        & 93       & 93       & 80       & 88.66667 & cricket  & 45      \\\\\n",
       "\t 14       & NA       & NA       & NA       & NA       & NA       &       NA & football & 99      \\\\\n",
       "\t 15       & NA       & NA       & NA       & NA       & NA       &       NA & kabadi   & 46      \\\\\n",
       "\t 17       & NA       & NA       & NA       & NA       & NA       &       NA & football & 55      \\\\\n",
       "\t 13       & NA       & NA       & NA       & NA       & NA       &       NA & cricket  & 57      \\\\\n",
       "\\end{tabular}\n"
      ],
      "text/markdown": [
       "\n",
       "| id | name | class | maths | sci | other | percentage | game | score |\n",
       "|---|---|---|---|---|---|---|---|---|\n",
       "|  1       | pappu    | C        | 72       | 75       | 48       | 65.00000 | NA       | NA       |\n",
       "|  2       | modi     | A        | 65       | 73       | 68       | 68.66667 | football | 60       |\n",
       "|  3       | saha     | A        | 83       | 49       | 69       | 67.00000 | NA       | NA       |\n",
       "|  4       | rahul    | C        | 69       | 92       | 86       | 82.33333 | NA       | NA       |\n",
       "|  5       | amit     | C        | 66       | 57       | 71       | 64.66667 | cricket  | 61       |\n",
       "|  6       | narendra | C        | 75       | 99       | 88       | 87.33333 | NA       | NA       |\n",
       "|  7       | sushma   | C        | 93       | 51       | 40       | 61.66667 | football | 69       |\n",
       "|  8       | imran    | C        | 68       | 42       | 90       | 66.66667 | cricket  | 97       |\n",
       "|  9       | devansh  | C        | 67       | 79       | 82       | 76.00000 | kabadi   | 84       |\n",
       "| 10       | hd       | C        | 93       | 93       | 80       | 88.66667 | cricket  | 45       |\n",
       "| 14       | NA       | NA       | NA       | NA       | NA       |       NA | football | 99       |\n",
       "| 15       | NA       | NA       | NA       | NA       | NA       |       NA | kabadi   | 46       |\n",
       "| 17       | NA       | NA       | NA       | NA       | NA       |       NA | football | 55       |\n",
       "| 13       | NA       | NA       | NA       | NA       | NA       |       NA | cricket  | 57       |\n",
       "\n"
      ],
      "text/plain": [
       "   id name     class maths sci other percentage game     score\n",
       "1   1 pappu    C     72    75  48    65.00000   NA       NA   \n",
       "2   2 modi     A     65    73  68    68.66667   football 60   \n",
       "3   3 saha     A     83    49  69    67.00000   NA       NA   \n",
       "4   4 rahul    C     69    92  86    82.33333   NA       NA   \n",
       "5   5 amit     C     66    57  71    64.66667   cricket  61   \n",
       "6   6 narendra C     75    99  88    87.33333   NA       NA   \n",
       "7   7 sushma   C     93    51  40    61.66667   football 69   \n",
       "8   8 imran    C     68    42  90    66.66667   cricket  97   \n",
       "9   9 devansh  C     67    79  82    76.00000   kabadi   84   \n",
       "10 10 hd       C     93    93  80    88.66667   cricket  45   \n",
       "11 14 NA       NA    NA    NA  NA          NA   football 99   \n",
       "12 15 NA       NA    NA    NA  NA          NA   kabadi   46   \n",
       "13 17 NA       NA    NA    NA  NA          NA   football 55   \n",
       "14 13 NA       NA    NA    NA  NA          NA   cricket  57   "
      ]
     },
     "metadata": {},
     "output_type": "display_data"
    }
   ],
   "source": [
    "full_join(data,game,by=\"id\")"
   ]
  },
  {
   "cell_type": "code",
   "execution_count": 73,
   "metadata": {},
   "outputs": [],
   "source": [
    "test1=data.frame(\n",
    "name=c(\"ram\",\"shyam\",\"ghanshyam\",\"hari\"),\n",
    "math=sample(40:100,4),\n",
    "sci=sample(40:100,4))\n",
    "\n",
    "test2=data.frame(\n",
    "name=c(\"ram\",\"shyam\",\"ghanshyam\",\"hari\"),\n",
    "math=sample(40:100,4),\n",
    "sci=sample(40:100,4))"
   ]
  },
  {
   "cell_type": "code",
   "execution_count": 74,
   "metadata": {},
   "outputs": [
    {
     "data": {
      "text/html": [
       "<table>\n",
       "<thead><tr><th scope=col>name</th><th scope=col>math</th><th scope=col>sci</th></tr></thead>\n",
       "<tbody>\n",
       "\t<tr><td>ram      </td><td>81       </td><td>87       </td></tr>\n",
       "\t<tr><td>shyam    </td><td>56       </td><td>74       </td></tr>\n",
       "\t<tr><td>ghanshyam</td><td>76       </td><td>86       </td></tr>\n",
       "\t<tr><td>hari     </td><td>95       </td><td>62       </td></tr>\n",
       "</tbody>\n",
       "</table>\n"
      ],
      "text/latex": [
       "\\begin{tabular}{r|lll}\n",
       " name & math & sci\\\\\n",
       "\\hline\n",
       "\t ram       & 81        & 87       \\\\\n",
       "\t shyam     & 56        & 74       \\\\\n",
       "\t ghanshyam & 76        & 86       \\\\\n",
       "\t hari      & 95        & 62       \\\\\n",
       "\\end{tabular}\n"
      ],
      "text/markdown": [
       "\n",
       "| name | math | sci |\n",
       "|---|---|---|\n",
       "| ram       | 81        | 87        |\n",
       "| shyam     | 56        | 74        |\n",
       "| ghanshyam | 76        | 86        |\n",
       "| hari      | 95        | 62        |\n",
       "\n"
      ],
      "text/plain": [
       "  name      math sci\n",
       "1 ram       81   87 \n",
       "2 shyam     56   74 \n",
       "3 ghanshyam 76   86 \n",
       "4 hari      95   62 "
      ]
     },
     "metadata": {},
     "output_type": "display_data"
    }
   ],
   "source": [
    "test1"
   ]
  },
  {
   "cell_type": "code",
   "execution_count": 75,
   "metadata": {},
   "outputs": [
    {
     "data": {
      "text/html": [
       "<table>\n",
       "<thead><tr><th scope=col>name</th><th scope=col>math</th><th scope=col>sci</th></tr></thead>\n",
       "<tbody>\n",
       "\t<tr><td>ram      </td><td>76       </td><td>100      </td></tr>\n",
       "\t<tr><td>shyam    </td><td>97       </td><td> 47      </td></tr>\n",
       "\t<tr><td>ghanshyam</td><td>41       </td><td> 45      </td></tr>\n",
       "\t<tr><td>hari     </td><td>54       </td><td> 86      </td></tr>\n",
       "</tbody>\n",
       "</table>\n"
      ],
      "text/latex": [
       "\\begin{tabular}{r|lll}\n",
       " name & math & sci\\\\\n",
       "\\hline\n",
       "\t ram       & 76        & 100      \\\\\n",
       "\t shyam     & 97        &  47      \\\\\n",
       "\t ghanshyam & 41        &  45      \\\\\n",
       "\t hari      & 54        &  86      \\\\\n",
       "\\end{tabular}\n"
      ],
      "text/markdown": [
       "\n",
       "| name | math | sci |\n",
       "|---|---|---|\n",
       "| ram       | 76        | 100       |\n",
       "| shyam     | 97        |  47       |\n",
       "| ghanshyam | 41        |  45       |\n",
       "| hari      | 54        |  86       |\n",
       "\n"
      ],
      "text/plain": [
       "  name      math sci\n",
       "1 ram       76   100\n",
       "2 shyam     97    47\n",
       "3 ghanshyam 41    45\n",
       "4 hari      54    86"
      ]
     },
     "metadata": {},
     "output_type": "display_data"
    }
   ],
   "source": [
    "test2"
   ]
  },
  {
   "cell_type": "code",
   "execution_count": 79,
   "metadata": {},
   "outputs": [],
   "source": [
    "test2[2,2]=56\n",
    "test2[2,3]=74"
   ]
  },
  {
   "cell_type": "code",
   "execution_count": 80,
   "metadata": {},
   "outputs": [
    {
     "data": {
      "text/html": [
       "<table>\n",
       "<thead><tr><th scope=col>name</th><th scope=col>math</th><th scope=col>sci</th></tr></thead>\n",
       "<tbody>\n",
       "\t<tr><td>shyam</td><td>56   </td><td>74   </td></tr>\n",
       "</tbody>\n",
       "</table>\n"
      ],
      "text/latex": [
       "\\begin{tabular}{r|lll}\n",
       " name & math & sci\\\\\n",
       "\\hline\n",
       "\t shyam & 56    & 74   \\\\\n",
       "\\end{tabular}\n"
      ],
      "text/markdown": [
       "\n",
       "| name | math | sci |\n",
       "|---|---|---|\n",
       "| shyam | 56    | 74    |\n",
       "\n"
      ],
      "text/plain": [
       "  name  math sci\n",
       "1 shyam 56   74 "
      ]
     },
     "metadata": {},
     "output_type": "display_data"
    }
   ],
   "source": [
    "intersect(test1,test2)"
   ]
  },
  {
   "cell_type": "code",
   "execution_count": null,
   "metadata": {},
   "outputs": [],
   "source": [
    "library(RSQ)"
   ]
  },
  {
   "cell_type": "code",
   "execution_count": 81,
   "metadata": {},
   "outputs": [],
   "source": [
    "data()"
   ]
  },
  {
   "cell_type": "code",
   "execution_count": 83,
   "metadata": {},
   "outputs": [
    {
     "data": {
      "text/html": [
       "<table>\n",
       "<thead><tr><th scope=col>id</th><th scope=col>name</th><th scope=col>class</th><th scope=col>maths</th><th scope=col>sci</th><th scope=col>other</th><th scope=col>percentage</th></tr></thead>\n",
       "<tbody>\n",
       "\t<tr><td>1       </td><td>pappu   </td><td>C       </td><td>72      </td><td>75      </td><td>48      </td><td>65.00000</td></tr>\n",
       "\t<tr><td>2       </td><td>modi    </td><td>A       </td><td>65      </td><td>73      </td><td>68      </td><td>68.66667</td></tr>\n",
       "\t<tr><td>3       </td><td>saha    </td><td>A       </td><td>83      </td><td>49      </td><td>69      </td><td>67.00000</td></tr>\n",
       "\t<tr><td>4       </td><td>rahul   </td><td>C       </td><td>69      </td><td>92      </td><td>86      </td><td>82.33333</td></tr>\n",
       "\t<tr><td>5       </td><td>amit    </td><td>C       </td><td>66      </td><td>57      </td><td>71      </td><td>64.66667</td></tr>\n",
       "\t<tr><td>6       </td><td>narendra</td><td>C       </td><td>75      </td><td>99      </td><td>88      </td><td>87.33333</td></tr>\n",
       "</tbody>\n",
       "</table>\n"
      ],
      "text/latex": [
       "\\begin{tabular}{r|lllllll}\n",
       " id & name & class & maths & sci & other & percentage\\\\\n",
       "\\hline\n",
       "\t 1        & pappu    & C        & 72       & 75       & 48       & 65.00000\\\\\n",
       "\t 2        & modi     & A        & 65       & 73       & 68       & 68.66667\\\\\n",
       "\t 3        & saha     & A        & 83       & 49       & 69       & 67.00000\\\\\n",
       "\t 4        & rahul    & C        & 69       & 92       & 86       & 82.33333\\\\\n",
       "\t 5        & amit     & C        & 66       & 57       & 71       & 64.66667\\\\\n",
       "\t 6        & narendra & C        & 75       & 99       & 88       & 87.33333\\\\\n",
       "\\end{tabular}\n"
      ],
      "text/markdown": [
       "\n",
       "| id | name | class | maths | sci | other | percentage |\n",
       "|---|---|---|---|---|---|---|\n",
       "| 1        | pappu    | C        | 72       | 75       | 48       | 65.00000 |\n",
       "| 2        | modi     | A        | 65       | 73       | 68       | 68.66667 |\n",
       "| 3        | saha     | A        | 83       | 49       | 69       | 67.00000 |\n",
       "| 4        | rahul    | C        | 69       | 92       | 86       | 82.33333 |\n",
       "| 5        | amit     | C        | 66       | 57       | 71       | 64.66667 |\n",
       "| 6        | narendra | C        | 75       | 99       | 88       | 87.33333 |\n",
       "\n"
      ],
      "text/plain": [
       "  id name     class maths sci other percentage\n",
       "1 1  pappu    C     72    75  48    65.00000  \n",
       "2 2  modi     A     65    73  68    68.66667  \n",
       "3 3  saha     A     83    49  69    67.00000  \n",
       "4 4  rahul    C     69    92  86    82.33333  \n",
       "5 5  amit     C     66    57  71    64.66667  \n",
       "6 6  narendra C     75    99  88    87.33333  "
      ]
     },
     "metadata": {},
     "output_type": "display_data"
    }
   ],
   "source": [
    "head(data)"
   ]
  },
  {
   "cell_type": "code",
   "execution_count": 84,
   "metadata": {},
   "outputs": [
    {
     "name": "stderr",
     "output_type": "stream",
     "text": [
      "Installing package into 'C:/Users/user/Documents/R/win-library/3.6'\n",
      "(as 'lib' is unspecified)\n"
     ]
    },
    {
     "name": "stdout",
     "output_type": "stream",
     "text": [
      "package 'RMySQL' successfully unpacked and MD5 sums checked\n",
      "\n",
      "The downloaded binary packages are in\n",
      "\tC:\\Users\\user\\AppData\\Local\\Temp\\RtmpCKx4bg\\downloaded_packages\n"
     ]
    }
   ],
   "source": [
    "install.packages(\"RMySQL\")"
   ]
  },
  {
   "cell_type": "code",
   "execution_count": 85,
   "metadata": {},
   "outputs": [
    {
     "name": "stderr",
     "output_type": "stream",
     "text": [
      "Warning message:\n",
      "\"package 'RMySQL' was built under R version 3.6.1\"Loading required package: DBI\n"
     ]
    }
   ],
   "source": [
    "library(RMySQL)"
   ]
  },
  {
   "cell_type": "code",
   "execution_count": 90,
   "metadata": {},
   "outputs": [],
   "source": [
    "conn=dbConnect(MySQL(),host=\"localhost\",user=\"root\",password=\"\",dbname=\"shail\")"
   ]
  },
  {
   "cell_type": "code",
   "execution_count": 92,
   "metadata": {},
   "outputs": [
    {
     "data": {
      "text/html": [
       "<table>\n",
       "<thead><tr><th scope=col>fname</th><th scope=col>lname</th><th scope=col>email</th><th scope=col>password</th><th scope=col>pic</th></tr></thead>\n",
       "<tbody>\n",
       "\t<tr><td>shail                         </td><td>                              </td><td>                              </td><td>                              </td><td>                              </td></tr>\n",
       "\t<tr><td>shail                         </td><td>saini                         </td><td>shailsinghadiya456@gmail.com  </td><td>mtbfight                      </td><td>C:UsersuserDocuments\n",
       "ew1.html</td></tr>\n",
       "\t<tr><td>shail                         </td><td>saini                         </td><td>shailsinghadiya456@gmail.com  </td><td>mtbfight                      </td><td>C:UsersuserDocuments\n",
       "ew.html </td></tr>\n",
       "</tbody>\n",
       "</table>\n"
      ],
      "text/latex": [
       "\\begin{tabular}{r|lllll}\n",
       " fname & lname & email & password & pic\\\\\n",
       "\\hline\n",
       "\t shail                          &                                &                                &                                &                               \\\\\n",
       "\t shail                          & saini                          & shailsinghadiya456@gmail.com   & mtbfight                       & C:UsersuserDocuments\n",
       "ew1.html\\\\\n",
       "\t shail                          & saini                          & shailsinghadiya456@gmail.com   & mtbfight                       & C:UsersuserDocuments\n",
       "ew.html \\\\\n",
       "\\end{tabular}\n"
      ],
      "text/markdown": [
       "\n",
       "| fname | lname | email | password | pic |\n",
       "|---|---|---|---|---|\n",
       "| shail                          |                                |                                |                                |                                |\n",
       "| shail                          | saini                          | shailsinghadiya456@gmail.com   | mtbfight                       | C:UsersuserDocuments\n",
       "ew1.html |\n",
       "| shail                          | saini                          | shailsinghadiya456@gmail.com   | mtbfight                       | C:UsersuserDocuments\n",
       "ew.html  |\n",
       "\n"
      ],
      "text/plain": [
       "  fname lname email                        password\n",
       "1 shail                                            \n",
       "2 shail saini shailsinghadiya456@gmail.com mtbfight\n",
       "3 shail saini shailsinghadiya456@gmail.com mtbfight\n",
       "  pic                           \n",
       "1                               \n",
       "2 C:UsersuserDocuments\\new1.html\n",
       "3 C:UsersuserDocuments\\new.html "
      ]
     },
     "metadata": {},
     "output_type": "display_data"
    }
   ],
   "source": [
    "dbGetQuery(conn,\"select * from new1\")"
   ]
  },
  {
   "cell_type": "code",
   "execution_count": 93,
   "metadata": {},
   "outputs": [
    {
     "data": {
      "text/html": [
       "<table>\n",
       "<thead><tr><th scope=col>id</th><th scope=col>name</th><th scope=col>class</th><th scope=col>maths</th><th scope=col>sci</th><th scope=col>other</th><th scope=col>percentage</th></tr></thead>\n",
       "<tbody>\n",
       "\t<tr><td> 1      </td><td>pappu   </td><td>C       </td><td>72      </td><td>75      </td><td>48      </td><td>65.00000</td></tr>\n",
       "\t<tr><td> 2      </td><td>modi    </td><td>A       </td><td>65      </td><td>73      </td><td>68      </td><td>68.66667</td></tr>\n",
       "\t<tr><td> 3      </td><td>saha    </td><td>A       </td><td>83      </td><td>49      </td><td>69      </td><td>67.00000</td></tr>\n",
       "\t<tr><td> 4      </td><td>rahul   </td><td>C       </td><td>69      </td><td>92      </td><td>86      </td><td>82.33333</td></tr>\n",
       "\t<tr><td> 5      </td><td>amit    </td><td>C       </td><td>66      </td><td>57      </td><td>71      </td><td>64.66667</td></tr>\n",
       "\t<tr><td> 6      </td><td>narendra</td><td>C       </td><td>75      </td><td>99      </td><td>88      </td><td>87.33333</td></tr>\n",
       "\t<tr><td> 7      </td><td>sushma  </td><td>C       </td><td>93      </td><td>51      </td><td>40      </td><td>61.66667</td></tr>\n",
       "\t<tr><td> 8      </td><td>imran   </td><td>C       </td><td>68      </td><td>42      </td><td>90      </td><td>66.66667</td></tr>\n",
       "\t<tr><td> 9      </td><td>devansh </td><td>C       </td><td>67      </td><td>79      </td><td>82      </td><td>76.00000</td></tr>\n",
       "\t<tr><td>10      </td><td>hd      </td><td>C       </td><td>93      </td><td>93      </td><td>80      </td><td>88.66667</td></tr>\n",
       "</tbody>\n",
       "</table>\n"
      ],
      "text/latex": [
       "\\begin{tabular}{r|lllllll}\n",
       " id & name & class & maths & sci & other & percentage\\\\\n",
       "\\hline\n",
       "\t  1       & pappu    & C        & 72       & 75       & 48       & 65.00000\\\\\n",
       "\t  2       & modi     & A        & 65       & 73       & 68       & 68.66667\\\\\n",
       "\t  3       & saha     & A        & 83       & 49       & 69       & 67.00000\\\\\n",
       "\t  4       & rahul    & C        & 69       & 92       & 86       & 82.33333\\\\\n",
       "\t  5       & amit     & C        & 66       & 57       & 71       & 64.66667\\\\\n",
       "\t  6       & narendra & C        & 75       & 99       & 88       & 87.33333\\\\\n",
       "\t  7       & sushma   & C        & 93       & 51       & 40       & 61.66667\\\\\n",
       "\t  8       & imran    & C        & 68       & 42       & 90       & 66.66667\\\\\n",
       "\t  9       & devansh  & C        & 67       & 79       & 82       & 76.00000\\\\\n",
       "\t 10       & hd       & C        & 93       & 93       & 80       & 88.66667\\\\\n",
       "\\end{tabular}\n"
      ],
      "text/markdown": [
       "\n",
       "| id | name | class | maths | sci | other | percentage |\n",
       "|---|---|---|---|---|---|---|\n",
       "|  1       | pappu    | C        | 72       | 75       | 48       | 65.00000 |\n",
       "|  2       | modi     | A        | 65       | 73       | 68       | 68.66667 |\n",
       "|  3       | saha     | A        | 83       | 49       | 69       | 67.00000 |\n",
       "|  4       | rahul    | C        | 69       | 92       | 86       | 82.33333 |\n",
       "|  5       | amit     | C        | 66       | 57       | 71       | 64.66667 |\n",
       "|  6       | narendra | C        | 75       | 99       | 88       | 87.33333 |\n",
       "|  7       | sushma   | C        | 93       | 51       | 40       | 61.66667 |\n",
       "|  8       | imran    | C        | 68       | 42       | 90       | 66.66667 |\n",
       "|  9       | devansh  | C        | 67       | 79       | 82       | 76.00000 |\n",
       "| 10       | hd       | C        | 93       | 93       | 80       | 88.66667 |\n",
       "\n"
      ],
      "text/plain": [
       "   id name     class maths sci other percentage\n",
       "1   1 pappu    C     72    75  48    65.00000  \n",
       "2   2 modi     A     65    73  68    68.66667  \n",
       "3   3 saha     A     83    49  69    67.00000  \n",
       "4   4 rahul    C     69    92  86    82.33333  \n",
       "5   5 amit     C     66    57  71    64.66667  \n",
       "6   6 narendra C     75    99  88    87.33333  \n",
       "7   7 sushma   C     93    51  40    61.66667  \n",
       "8   8 imran    C     68    42  90    66.66667  \n",
       "9   9 devansh  C     67    79  82    76.00000  \n",
       "10 10 hd       C     93    93  80    88.66667  "
      ]
     },
     "metadata": {},
     "output_type": "display_data"
    }
   ],
   "source": [
    "data\n"
   ]
  },
  {
   "cell_type": "code",
   "execution_count": 94,
   "metadata": {},
   "outputs": [
    {
     "data": {
      "text/html": [
       "TRUE"
      ],
      "text/latex": [
       "TRUE"
      ],
      "text/markdown": [
       "TRUE"
      ],
      "text/plain": [
       "[1] TRUE"
      ]
     },
     "metadata": {},
     "output_type": "display_data"
    }
   ],
   "source": [
    "dbWriteTable(conn,\"info\",data)"
   ]
  },
  {
   "cell_type": "code",
   "execution_count": 95,
   "metadata": {},
   "outputs": [
    {
     "data": {
      "text/html": [
       "TRUE"
      ],
      "text/latex": [
       "TRUE"
      ],
      "text/markdown": [
       "TRUE"
      ],
      "text/plain": [
       "[1] TRUE"
      ]
     },
     "metadata": {},
     "output_type": "display_data"
    }
   ],
   "source": [
    "dbWriteTable(conn,\"iris\",iris)"
   ]
  },
  {
   "cell_type": "code",
   "execution_count": 96,
   "metadata": {},
   "outputs": [
    {
     "data": {
      "text/html": [
       "TRUE"
      ],
      "text/latex": [
       "TRUE"
      ],
      "text/markdown": [
       "TRUE"
      ],
      "text/plain": [
       "[1] TRUE"
      ]
     },
     "metadata": {},
     "output_type": "display_data"
    }
   ],
   "source": [
    "dbWriteTable(conn,\"mpg\",mpg)"
   ]
  },
  {
   "cell_type": "code",
   "execution_count": 97,
   "metadata": {},
   "outputs": [
    {
     "data": {
      "text/html": [
       "TRUE"
      ],
      "text/latex": [
       "TRUE"
      ],
      "text/markdown": [
       "TRUE"
      ],
      "text/plain": [
       "[1] TRUE"
      ]
     },
     "metadata": {},
     "output_type": "display_data"
    }
   ],
   "source": [
    "dbCommit(conn)"
   ]
  },
  {
   "cell_type": "code",
   "execution_count": 98,
   "metadata": {},
   "outputs": [
    {
     "data": {
      "text/html": [
       "TRUE"
      ],
      "text/latex": [
       "TRUE"
      ],
      "text/markdown": [
       "TRUE"
      ],
      "text/plain": [
       "[1] TRUE"
      ]
     },
     "metadata": {},
     "output_type": "display_data"
    }
   ],
   "source": [
    "dbDisconnect(conn)"
   ]
  },
  {
   "cell_type": "code",
   "execution_count": 99,
   "metadata": {},
   "outputs": [],
   "source": [
    "write.csv(iris,file=\"iris.csv\")"
   ]
  },
  {
   "cell_type": "code",
   "execution_count": 100,
   "metadata": {},
   "outputs": [],
   "source": [
    "x=read.csv(\"iris.csv\")"
   ]
  },
  {
   "cell_type": "code",
   "execution_count": 102,
   "metadata": {},
   "outputs": [
    {
     "data": {
      "text/html": [
       "<table>\n",
       "<thead><tr><th scope=col>X</th><th scope=col>Sepal.Length</th><th scope=col>Sepal.Width</th><th scope=col>Petal.Length</th><th scope=col>Petal.Width</th><th scope=col>Species</th></tr></thead>\n",
       "<tbody>\n",
       "\t<tr><td>1     </td><td>5.1   </td><td>3.5   </td><td>1.4   </td><td>0.2   </td><td>setosa</td></tr>\n",
       "\t<tr><td>2     </td><td>4.9   </td><td>3.0   </td><td>1.4   </td><td>0.2   </td><td>setosa</td></tr>\n",
       "\t<tr><td>3     </td><td>4.7   </td><td>3.2   </td><td>1.3   </td><td>0.2   </td><td>setosa</td></tr>\n",
       "\t<tr><td>4     </td><td>4.6   </td><td>3.1   </td><td>1.5   </td><td>0.2   </td><td>setosa</td></tr>\n",
       "\t<tr><td>5     </td><td>5.0   </td><td>3.6   </td><td>1.4   </td><td>0.2   </td><td>setosa</td></tr>\n",
       "\t<tr><td>6     </td><td>5.4   </td><td>3.9   </td><td>1.7   </td><td>0.4   </td><td>setosa</td></tr>\n",
       "</tbody>\n",
       "</table>\n"
      ],
      "text/latex": [
       "\\begin{tabular}{r|llllll}\n",
       " X & Sepal.Length & Sepal.Width & Petal.Length & Petal.Width & Species\\\\\n",
       "\\hline\n",
       "\t 1      & 5.1    & 3.5    & 1.4    & 0.2    & setosa\\\\\n",
       "\t 2      & 4.9    & 3.0    & 1.4    & 0.2    & setosa\\\\\n",
       "\t 3      & 4.7    & 3.2    & 1.3    & 0.2    & setosa\\\\\n",
       "\t 4      & 4.6    & 3.1    & 1.5    & 0.2    & setosa\\\\\n",
       "\t 5      & 5.0    & 3.6    & 1.4    & 0.2    & setosa\\\\\n",
       "\t 6      & 5.4    & 3.9    & 1.7    & 0.4    & setosa\\\\\n",
       "\\end{tabular}\n"
      ],
      "text/markdown": [
       "\n",
       "| X | Sepal.Length | Sepal.Width | Petal.Length | Petal.Width | Species |\n",
       "|---|---|---|---|---|---|\n",
       "| 1      | 5.1    | 3.5    | 1.4    | 0.2    | setosa |\n",
       "| 2      | 4.9    | 3.0    | 1.4    | 0.2    | setosa |\n",
       "| 3      | 4.7    | 3.2    | 1.3    | 0.2    | setosa |\n",
       "| 4      | 4.6    | 3.1    | 1.5    | 0.2    | setosa |\n",
       "| 5      | 5.0    | 3.6    | 1.4    | 0.2    | setosa |\n",
       "| 6      | 5.4    | 3.9    | 1.7    | 0.4    | setosa |\n",
       "\n"
      ],
      "text/plain": [
       "  X Sepal.Length Sepal.Width Petal.Length Petal.Width Species\n",
       "1 1 5.1          3.5         1.4          0.2         setosa \n",
       "2 2 4.9          3.0         1.4          0.2         setosa \n",
       "3 3 4.7          3.2         1.3          0.2         setosa \n",
       "4 4 4.6          3.1         1.5          0.2         setosa \n",
       "5 5 5.0          3.6         1.4          0.2         setosa \n",
       "6 6 5.4          3.9         1.7          0.4         setosa "
      ]
     },
     "metadata": {},
     "output_type": "display_data"
    }
   ],
   "source": [
    "head(x)"
   ]
  },
  {
   "cell_type": "code",
   "execution_count": null,
   "metadata": {},
   "outputs": [],
   "source": []
  }
 ],
 "metadata": {
  "kernelspec": {
   "display_name": "R",
   "language": "R",
   "name": "ir"
  },
  "language_info": {
   "codemirror_mode": "r",
   "file_extension": ".r",
   "mimetype": "text/x-r-source",
   "name": "R",
   "pygments_lexer": "r",
   "version": "3.6.0"
  }
 },
 "nbformat": 4,
 "nbformat_minor": 2
}
